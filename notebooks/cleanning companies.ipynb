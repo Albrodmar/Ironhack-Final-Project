{
 "cells": [
  {
   "cell_type": "code",
   "execution_count": 103,
   "metadata": {},
   "outputs": [],
   "source": [
    "import pandas as pd"
   ]
  },
  {
   "cell_type": "code",
   "execution_count": 112,
   "metadata": {},
   "outputs": [],
   "source": [
    "companies = pd.read_excel('..\\Datos\\processed\\cifs_cnae_denominacion_localidad.xlsx', index_col=0)"
   ]
  },
  {
   "cell_type": "code",
   "execution_count": 113,
   "metadata": {},
   "outputs": [],
   "source": [
    "companies['provincia'] = companies['Localidad'].str.extract('\\((.+)\\)', expand=True)\n",
    "for x in range(len(companies)):\n",
    "    if companies.loc[x, 'provincia'] == 'V ELORZ)/NOAIN (ELORTZIBAR) ( Navarra ':\n",
    "        companies.loc[x, 'provincia'] = 'Navarra'\n",
    "companies['provincia'] = companies['provincia'].str.strip()"
   ]
  },
  {
   "cell_type": "code",
   "execution_count": 114,
   "metadata": {},
   "outputs": [],
   "source": [
    "companies.drop(columns=['País/Nombre del país','CNAE', 'Nombre','Localidad', 'Objeto Social', 'Forma Juridica','CV 2018-2019', 'Nº Pedidos' ], inplace = True)"
   ]
  },
  {
   "cell_type": "code",
   "execution_count": 115,
   "metadata": {},
   "outputs": [],
   "source": [
    "companies = companies.dropna(subset=['Actividad Informa'])"
   ]
  },
  {
   "cell_type": "code",
   "execution_count": 116,
   "metadata": {},
   "outputs": [
    {
     "data": {
      "text/plain": [
       "0"
      ]
     },
     "execution_count": 116,
     "metadata": {},
     "output_type": "execute_result"
    }
   ],
   "source": [
    "companies['Actividad Informa'].isnull().sum()"
   ]
  },
  {
   "cell_type": "code",
   "execution_count": 117,
   "metadata": {},
   "outputs": [
    {
     "data": {
      "text/plain": [
       "(11985, 4)"
      ]
     },
     "execution_count": 117,
     "metadata": {},
     "output_type": "execute_result"
    }
   ],
   "source": [
    "companies.shape"
   ]
  },
  {
   "cell_type": "code",
   "execution_count": 118,
   "metadata": {
    "scrolled": true
   },
   "outputs": [
    {
     "data": {
      "text/html": [
       "<div>\n",
       "<style scoped>\n",
       "    .dataframe tbody tr th:only-of-type {\n",
       "        vertical-align: middle;\n",
       "    }\n",
       "\n",
       "    .dataframe tbody tr th {\n",
       "        vertical-align: top;\n",
       "    }\n",
       "\n",
       "    .dataframe thead th {\n",
       "        text-align: right;\n",
       "    }\n",
       "</style>\n",
       "<table border=\"1\" class=\"dataframe\">\n",
       "  <thead>\n",
       "    <tr style=\"text-align: right;\">\n",
       "      <th></th>\n",
       "      <th>CIF/NIF</th>\n",
       "      <th>Nombre_einforma</th>\n",
       "      <th>Actividad Informa</th>\n",
       "      <th>provincia</th>\n",
       "    </tr>\n",
       "  </thead>\n",
       "  <tbody>\n",
       "    <tr>\n",
       "      <th>0</th>\n",
       "      <td>13921008M</td>\n",
       "      <td>MAGNI GIRALDEZ OSCAR</td>\n",
       "      <td>Servicios fotográficos</td>\n",
       "      <td>La Coruña</td>\n",
       "    </tr>\n",
       "    <tr>\n",
       "      <th>1</th>\n",
       "      <td>B85049435</td>\n",
       "      <td>1&amp;1 IONOS ESPAÑA SL.</td>\n",
       "      <td>Telecomunicaciones</td>\n",
       "      <td>Madrid</td>\n",
       "    </tr>\n",
       "    <tr>\n",
       "      <th>2</th>\n",
       "      <td>B84883214</td>\n",
       "      <td>2006 DQ SYSTEM INFORMATICA EMPRESARIAL SL</td>\n",
       "      <td>Reparación de equipos de comunicación</td>\n",
       "      <td>Madrid</td>\n",
       "    </tr>\n",
       "    <tr>\n",
       "      <th>3</th>\n",
       "      <td>A82598079</td>\n",
       "      <td>20 20 LOGISTICS ESPAÑA SA (EXTINGUIDA)</td>\n",
       "      <td>Comercio al por menor de productos industrial...</td>\n",
       "      <td>Madrid</td>\n",
       "    </tr>\n",
       "    <tr>\n",
       "      <th>4</th>\n",
       "      <td>A81971699</td>\n",
       "      <td>BRIGHTSTAR 2020 (ESPAÑA) SA.</td>\n",
       "      <td>Telecomunicaciones</td>\n",
       "      <td>Madrid</td>\n",
       "    </tr>\n",
       "    <tr>\n",
       "      <th>...</th>\n",
       "      <td>...</td>\n",
       "      <td>...</td>\n",
       "      <td>...</td>\n",
       "      <td>...</td>\n",
       "    </tr>\n",
       "    <tr>\n",
       "      <th>12874</th>\n",
       "      <td>B27718964</td>\n",
       "      <td>HEVA DETER HISPANICA SL</td>\n",
       "      <td>Comercio al por mayor de productos para mante...</td>\n",
       "      <td>Pontevedra</td>\n",
       "    </tr>\n",
       "    <tr>\n",
       "      <th>12875</th>\n",
       "      <td>48004384A</td>\n",
       "      <td>ZORNOZA SOLINIS IGNACIO</td>\n",
       "      <td>Confección en serie prendas vestir y sus comp...</td>\n",
       "      <td>Tarragona</td>\n",
       "    </tr>\n",
       "    <tr>\n",
       "      <th>12876</th>\n",
       "      <td>B48654628</td>\n",
       "      <td>ZUCCHETTI SOFTWARE SPAIN SOCIEDAD LIMITADA UN...</td>\n",
       "      <td>Otras actividades relacionadas con la informá...</td>\n",
       "      <td>Bizkaia</td>\n",
       "    </tr>\n",
       "    <tr>\n",
       "      <th>12877</th>\n",
       "      <td>B09245804</td>\n",
       "      <td>ZUÑEGAS SL</td>\n",
       "      <td>Comercio al por menor de combustibles, carbur...</td>\n",
       "      <td>Burgos</td>\n",
       "    </tr>\n",
       "    <tr>\n",
       "      <th>12878</th>\n",
       "      <td>B95946638</td>\n",
       "      <td>ZURETZATGARA SOCIEDAD LIMITADA. (EXTINGUIDA)</td>\n",
       "      <td>Otras const, especializadas</td>\n",
       "      <td>Bizkaia</td>\n",
       "    </tr>\n",
       "  </tbody>\n",
       "</table>\n",
       "<p>11985 rows × 4 columns</p>\n",
       "</div>"
      ],
      "text/plain": [
       "         CIF/NIF                                    Nombre_einforma  \\\n",
       "0      13921008M                               MAGNI GIRALDEZ OSCAR   \n",
       "1      B85049435                               1&1 IONOS ESPAÑA SL.   \n",
       "2      B84883214          2006 DQ SYSTEM INFORMATICA EMPRESARIAL SL   \n",
       "3      A82598079             20 20 LOGISTICS ESPAÑA SA (EXTINGUIDA)   \n",
       "4      A81971699                       BRIGHTSTAR 2020 (ESPAÑA) SA.   \n",
       "...          ...                                                ...   \n",
       "12874  B27718964                            HEVA DETER HISPANICA SL   \n",
       "12875  48004384A                            ZORNOZA SOLINIS IGNACIO   \n",
       "12876  B48654628   ZUCCHETTI SOFTWARE SPAIN SOCIEDAD LIMITADA UN...   \n",
       "12877  B09245804                                         ZUÑEGAS SL   \n",
       "12878  B95946638       ZURETZATGARA SOCIEDAD LIMITADA. (EXTINGUIDA)   \n",
       "\n",
       "                                       Actividad Informa   provincia  \n",
       "0                                 Servicios fotográficos   La Coruña  \n",
       "1                                     Telecomunicaciones      Madrid  \n",
       "2                  Reparación de equipos de comunicación      Madrid  \n",
       "3       Comercio al por menor de productos industrial...      Madrid  \n",
       "4                                     Telecomunicaciones      Madrid  \n",
       "...                                                  ...         ...  \n",
       "12874   Comercio al por mayor de productos para mante...  Pontevedra  \n",
       "12875   Confección en serie prendas vestir y sus comp...   Tarragona  \n",
       "12876   Otras actividades relacionadas con la informá...     Bizkaia  \n",
       "12877   Comercio al por menor de combustibles, carbur...      Burgos  \n",
       "12878                        Otras const, especializadas     Bizkaia  \n",
       "\n",
       "[11985 rows x 4 columns]"
      ]
     },
     "execution_count": 118,
     "metadata": {},
     "output_type": "execute_result"
    }
   ],
   "source": [
    "companies"
   ]
  },
  {
   "cell_type": "code",
   "execution_count": 120,
   "metadata": {},
   "outputs": [],
   "source": [
    "companies.to_csv('..\\Datos\\processed\\companies_clean.csv')"
   ]
  },
  {
   "cell_type": "code",
   "execution_count": null,
   "metadata": {},
   "outputs": [],
   "source": []
  }
 ],
 "metadata": {
  "kernelspec": {
   "display_name": "Python 3",
   "language": "python",
   "name": "python3"
  },
  "language_info": {
   "codemirror_mode": {
    "name": "ipython",
    "version": 3
   },
   "file_extension": ".py",
   "mimetype": "text/x-python",
   "name": "python",
   "nbconvert_exporter": "python",
   "pygments_lexer": "ipython3",
   "version": "3.7.5"
  }
 },
 "nbformat": 4,
 "nbformat_minor": 4
}
