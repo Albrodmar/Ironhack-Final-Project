{
 "cells": [
  {
   "cell_type": "code",
   "execution_count": 1,
   "metadata": {},
   "outputs": [],
   "source": [
    "import pandas as pd"
   ]
  },
  {
   "cell_type": "code",
   "execution_count": 188,
   "metadata": {},
   "outputs": [],
   "source": [
    "ventas = pd.read_csv('..\\Datos\\linea_cliente.csv')"
   ]
  },
  {
   "cell_type": "code",
   "execution_count": 189,
   "metadata": {},
   "outputs": [
    {
     "data": {
      "text/plain": [
       "(42736, 6)"
      ]
     },
     "execution_count": 189,
     "metadata": {},
     "output_type": "execute_result"
    }
   ],
   "source": [
    "ventas.shape"
   ]
  },
  {
   "cell_type": "code",
   "execution_count": 190,
   "metadata": {},
   "outputs": [],
   "source": [
    "ventas = ventas[ventas['vat'].notna()]\n",
    "ventas = ventas[ventas.vat != '1']"
   ]
  },
  {
   "cell_type": "code",
   "execution_count": 191,
   "metadata": {},
   "outputs": [
    {
     "data": {
      "text/plain": [
       "ESA78032315    15\n",
       "ESF28140119    13\n",
       "ESB31262009    12\n",
       "ESA06000293    12\n",
       "ESB91110452    12\n",
       "               ..\n",
       "ES50682902X     1\n",
       "ESJ91434837     1\n",
       "ES07442476K     1\n",
       "ESB86963063     1\n",
       "ESA58907015     1\n",
       "Name: vat, Length: 16470, dtype: int64"
      ]
     },
     "execution_count": 191,
     "metadata": {},
     "output_type": "execute_result"
    }
   ],
   "source": [
    "ventas['vat'].value_counts()"
   ]
  },
  {
   "cell_type": "code",
   "execution_count": 192,
   "metadata": {},
   "outputs": [
    {
     "data": {
      "text/plain": [
       "(21542, 6)"
      ]
     },
     "execution_count": 192,
     "metadata": {},
     "output_type": "execute_result"
    }
   ],
   "source": [
    "ventas.shape"
   ]
  },
  {
   "cell_type": "code",
   "execution_count": 193,
   "metadata": {},
   "outputs": [],
   "source": [
    "ventas['vat'] = ventas['vat'].str.replace('-','')\n",
    "ventas['vat'] = ventas['vat'].str.replace(' ','')\n",
    "ventas['vat'] = ventas['vat'].str.replace('ES','')"
   ]
  },
  {
   "cell_type": "code",
   "execution_count": 194,
   "metadata": {},
   "outputs": [
    {
     "data": {
      "text/plain": [
       "(21542, 6)"
      ]
     },
     "execution_count": 194,
     "metadata": {},
     "output_type": "execute_result"
    }
   ],
   "source": [
    "ventas.shape"
   ]
  },
  {
   "cell_type": "code",
   "execution_count": 195,
   "metadata": {},
   "outputs": [
    {
     "data": {
      "text/plain": [
       "A78032315    15\n",
       "F28140119    13\n",
       "B31262009    12\n",
       "B91110452    12\n",
       "A06000293    12\n",
       "             ..\n",
       "23230522Q     1\n",
       "B46405304     1\n",
       "B08843831     1\n",
       "44830173E     1\n",
       "B59477653     1\n",
       "Name: vat, Length: 16451, dtype: int64"
      ]
     },
     "execution_count": 195,
     "metadata": {},
     "output_type": "execute_result"
    }
   ],
   "source": [
    "ventas['vat'].value_counts()"
   ]
  },
  {
   "cell_type": "code",
   "execution_count": 196,
   "metadata": {},
   "outputs": [
    {
     "data": {
      "text/plain": [
       "(21542, 6)"
      ]
     },
     "execution_count": 196,
     "metadata": {},
     "output_type": "execute_result"
    }
   ],
   "source": [
    "ventas.shape"
   ]
  },
  {
   "cell_type": "code",
   "execution_count": 197,
   "metadata": {},
   "outputs": [],
   "source": [
    "ventas = ventas[ventas['name-2'] != '[SHIP] Shipping and Handling']\n",
    "ventas = ventas[ventas['name-2'] != '[TR.EXPRESS] EXPRESS TRANSPORT']\n",
    "ventas = ventas[ventas['name-2'] != '[DIF-PREC] DIFERENCIA DE PRECIOS']\n",
    "ventas = ventas[ventas['name-2'] != 'Coste del TRANSPORTE']\n",
    "ventas = ventas[ventas['name-2'] != 'Shipping and Handling']\n",
    "ventas = ventas[ventas['name-2'] != '[SHIP] Shipping and Handling\\nSpedizione Licenza Bartender in cartacceo+ CD installazione']"
   ]
  },
  {
   "cell_type": "code",
   "execution_count": 198,
   "metadata": {},
   "outputs": [
    {
     "data": {
      "text/plain": [
       "(16907, 6)"
      ]
     },
     "execution_count": 198,
     "metadata": {},
     "output_type": "execute_result"
    }
   ],
   "source": [
    "ventas.shape"
   ]
  },
  {
   "cell_type": "code",
   "execution_count": 209,
   "metadata": {},
   "outputs": [
    {
     "data": {
      "text/plain": [
       "SERVICIOS DE REPARACION                                             216\n",
       "[SSREP] SERVICIOS DE REPARACION                                     161\n",
       "SUMINISTROS VARIOS                                                  132\n",
       "GK420D DT 203DPI USB SER PARAL LEL R2.0                              91\n",
       "[MK9520-37A38] VOYAGER MS9520 KIT USB BLACK MASKED STAND + HARD      90\n",
       "                                                                   ... \n",
       "BATTERY FOR OPTIMUS PDA LI-ION                                        1\n",
       "[79841] KIT UPGR CUTTER AND CATCH TRAY                                1\n",
       "[203-974-001] KIT PEEL-OFF FOR PM43 REWINDER NOT INCLUDED             1\n",
       "[Z71-000C0000EM00] ZEBRA - ZEBRA ZXP SERIE 7, SINGLE SIDED, 1         1\n",
       "Etiqueta Zebra TD 102 x 152 mm        € x Rollo        12 Rol         1\n",
       "Name: name-2, Length: 5579, dtype: int64"
      ]
     },
     "execution_count": 209,
     "metadata": {},
     "output_type": "execute_result"
    }
   ],
   "source": [
    "ventas['name-2'].value_counts()"
   ]
  },
  {
   "cell_type": "code",
   "execution_count": 207,
   "metadata": {},
   "outputs": [],
   "source": [
    "ventas['name-2'] = ventas['name-2'].str.replace('PO:','')"
   ]
  },
  {
   "cell_type": "code",
   "execution_count": 208,
   "metadata": {},
   "outputs": [
    {
     "data": {
      "text/plain": [
       "SERVICIOS DE REPARACION                                             216\n",
       "[SSREP] SERVICIOS DE REPARACION                                     161\n",
       "SUMINISTROS VARIOS                                                  132\n",
       "GK420D DT 203DPI USB SER PARAL LEL R2.0                              91\n",
       "[MK9520-37A38] VOYAGER MS9520 KIT USB BLACK MASKED STAND + HARD      90\n",
       "                                                                   ... \n",
       "BATTERY FOR OPTIMUS PDA LI-ION                                        1\n",
       "[79841] KIT UPGR CUTTER AND CATCH TRAY                                1\n",
       "[203-974-001] KIT PEEL-OFF FOR PM43 REWINDER NOT INCLUDED             1\n",
       "[Z71-000C0000EM00] ZEBRA - ZEBRA ZXP SERIE 7, SINGLE SIDED, 1         1\n",
       "Etiqueta Zebra TD 102 x 152 mm        € x Rollo        12 Rol         1\n",
       "Name: name-2, Length: 5579, dtype: int64"
      ]
     },
     "execution_count": 208,
     "metadata": {},
     "output_type": "execute_result"
    }
   ],
   "source": [
    "ventas['name-2'].value_counts()"
   ]
  },
  {
   "cell_type": "code",
   "execution_count": 210,
   "metadata": {},
   "outputs": [
    {
     "data": {
      "text/html": [
       "<div>\n",
       "<style scoped>\n",
       "    .dataframe tbody tr th:only-of-type {\n",
       "        vertical-align: middle;\n",
       "    }\n",
       "\n",
       "    .dataframe tbody tr th {\n",
       "        vertical-align: top;\n",
       "    }\n",
       "\n",
       "    .dataframe thead th {\n",
       "        text-align: right;\n",
       "    }\n",
       "</style>\n",
       "<table border=\"1\" class=\"dataframe\">\n",
       "  <thead>\n",
       "    <tr style=\"text-align: right;\">\n",
       "      <th></th>\n",
       "      <th>id</th>\n",
       "      <th>name</th>\n",
       "      <th>vat</th>\n",
       "      <th>name-2</th>\n",
       "      <th>price_subtotal</th>\n",
       "      <th>quantity</th>\n",
       "    </tr>\n",
       "  </thead>\n",
       "  <tbody>\n",
       "    <tr>\n",
       "      <th>2</th>\n",
       "      <td>125</td>\n",
       "      <td>VALENTIN S.A.</td>\n",
       "      <td>A28415495</td>\n",
       "      <td>[2844-20320-0001] LP2844 DT 203DPI SER PAR USB</td>\n",
       "      <td>239.00</td>\n",
       "      <td>1.0</td>\n",
       "    </tr>\n",
       "    <tr>\n",
       "      <th>6</th>\n",
       "      <td>131</td>\n",
       "      <td>Gestion Logistica Eficiente, S.L.</td>\n",
       "      <td>B</td>\n",
       "      <td>VOYAGER PDF MS9544 USB BLK KIT STAND + USB CBL...</td>\n",
       "      <td>127.91</td>\n",
       "      <td>1.0</td>\n",
       "    </tr>\n",
       "    <tr>\n",
       "      <th>7</th>\n",
       "      <td>132</td>\n",
       "      <td>gasolineras reunidas s.a.</td>\n",
       "      <td>a30030449</td>\n",
       "      <td>VOYAGER PDF MS9544 USB BLK KIT STAND + USB CBL...</td>\n",
       "      <td>153.49</td>\n",
       "      <td>1.0</td>\n",
       "    </tr>\n",
       "    <tr>\n",
       "      <th>9</th>\n",
       "      <td>137</td>\n",
       "      <td>SISTEMAS INTEGRALES DE CALIDAD S.L</td>\n",
       "      <td>B82196874</td>\n",
       "      <td>YMCKOK RIBBON FOR P120</td>\n",
       "      <td>36.50</td>\n",
       "      <td>1.0</td>\n",
       "    </tr>\n",
       "    <tr>\n",
       "      <th>11</th>\n",
       "      <td>139</td>\n",
       "      <td>V.ROS, S.L.</td>\n",
       "      <td>B12026183</td>\n",
       "      <td>[800015-948] YMCKOK RIBBON FOR P120</td>\n",
       "      <td>43.80</td>\n",
       "      <td>1.0</td>\n",
       "    </tr>\n",
       "  </tbody>\n",
       "</table>\n",
       "</div>"
      ],
      "text/plain": [
       "     id                                name        vat  \\\n",
       "2   125                       VALENTIN S.A.  A28415495   \n",
       "6   131   Gestion Logistica Eficiente, S.L.          B   \n",
       "7   132           gasolineras reunidas s.a.  a30030449   \n",
       "9   137  SISTEMAS INTEGRALES DE CALIDAD S.L  B82196874   \n",
       "11  139                         V.ROS, S.L.  B12026183   \n",
       "\n",
       "                                               name-2  price_subtotal  \\\n",
       "2     [2844-20320-0001] LP2844 DT 203DPI SER PAR USB           239.00   \n",
       "6   VOYAGER PDF MS9544 USB BLK KIT STAND + USB CBL...          127.91   \n",
       "7   VOYAGER PDF MS9544 USB BLK KIT STAND + USB CBL...          153.49   \n",
       "9                             YMCKOK RIBBON FOR P120            36.50   \n",
       "11               [800015-948] YMCKOK RIBBON FOR P120            43.80   \n",
       "\n",
       "    quantity  \n",
       "2        1.0  \n",
       "6        1.0  \n",
       "7        1.0  \n",
       "9        1.0  \n",
       "11       1.0  "
      ]
     },
     "execution_count": 210,
     "metadata": {},
     "output_type": "execute_result"
    }
   ],
   "source": [
    "ventas.head()"
   ]
  },
  {
   "cell_type": "code",
   "execution_count": 211,
   "metadata": {},
   "outputs": [],
   "source": [
    "ventas['sku'] = ventas['name-2'].str.extract('\\[(.+)\\]', expand=True)"
   ]
  },
  {
   "cell_type": "code",
   "execution_count": 218,
   "metadata": {},
   "outputs": [],
   "source": [
    "na = ventas[ventas['sku'].isna()]"
   ]
  },
  {
   "cell_type": "code",
   "execution_count": 219,
   "metadata": {},
   "outputs": [
    {
     "data": {
      "text/html": [
       "<div>\n",
       "<style scoped>\n",
       "    .dataframe tbody tr th:only-of-type {\n",
       "        vertical-align: middle;\n",
       "    }\n",
       "\n",
       "    .dataframe tbody tr th {\n",
       "        vertical-align: top;\n",
       "    }\n",
       "\n",
       "    .dataframe thead th {\n",
       "        text-align: right;\n",
       "    }\n",
       "</style>\n",
       "<table border=\"1\" class=\"dataframe\">\n",
       "  <thead>\n",
       "    <tr style=\"text-align: right;\">\n",
       "      <th></th>\n",
       "      <th>id</th>\n",
       "      <th>name</th>\n",
       "      <th>vat</th>\n",
       "      <th>name-2</th>\n",
       "      <th>price_subtotal</th>\n",
       "      <th>quantity</th>\n",
       "      <th>sku</th>\n",
       "    </tr>\n",
       "  </thead>\n",
       "  <tbody>\n",
       "    <tr>\n",
       "      <th>6</th>\n",
       "      <td>131</td>\n",
       "      <td>Gestion Logistica Eficiente, S.L.</td>\n",
       "      <td>B</td>\n",
       "      <td>VOYAGER PDF MS9544 USB BLK KIT STAND + USB CBL...</td>\n",
       "      <td>127.91</td>\n",
       "      <td>1.0</td>\n",
       "      <td>NaN</td>\n",
       "    </tr>\n",
       "    <tr>\n",
       "      <th>7</th>\n",
       "      <td>132</td>\n",
       "      <td>gasolineras reunidas s.a.</td>\n",
       "      <td>a30030449</td>\n",
       "      <td>VOYAGER PDF MS9544 USB BLK KIT STAND + USB CBL...</td>\n",
       "      <td>153.49</td>\n",
       "      <td>1.0</td>\n",
       "      <td>NaN</td>\n",
       "    </tr>\n",
       "    <tr>\n",
       "      <th>9</th>\n",
       "      <td>137</td>\n",
       "      <td>SISTEMAS INTEGRALES DE CALIDAD S.L</td>\n",
       "      <td>B82196874</td>\n",
       "      <td>YMCKOK RIBBON FOR P120</td>\n",
       "      <td>36.50</td>\n",
       "      <td>1.0</td>\n",
       "      <td>NaN</td>\n",
       "    </tr>\n",
       "    <tr>\n",
       "      <th>12</th>\n",
       "      <td>141</td>\n",
       "      <td>O.C Packages at Home, S.L.</td>\n",
       "      <td>B85451318</td>\n",
       "      <td>ANT 2.4-5.2GHZ DUAL DP 2DBI INDOOR ANTENNA</td>\n",
       "      <td>168.84</td>\n",
       "      <td>14.0</td>\n",
       "      <td>NaN</td>\n",
       "    </tr>\n",
       "    <tr>\n",
       "      <th>15</th>\n",
       "      <td>145</td>\n",
       "      <td>ANTONI BALLARIN MUÑOZ (yoigomitre)</td>\n",
       "      <td>35069608j</td>\n",
       "      <td>YMCKO RIBBON FOR P1xx 1 UNIT</td>\n",
       "      <td>86.16</td>\n",
       "      <td>3.0</td>\n",
       "      <td>NaN</td>\n",
       "    </tr>\n",
       "    <tr>\n",
       "      <th>...</th>\n",
       "      <td>...</td>\n",
       "      <td>...</td>\n",
       "      <td>...</td>\n",
       "      <td>...</td>\n",
       "      <td>...</td>\n",
       "      <td>...</td>\n",
       "      <td>...</td>\n",
       "    </tr>\n",
       "    <tr>\n",
       "      <th>42716</th>\n",
       "      <td>119351</td>\n",
       "      <td>\\tRosario Moreno</td>\n",
       "      <td>A84149533</td>\n",
       "      <td>MC45; 3,5G WAN 2100 MHZ; ENGLI SH</td>\n",
       "      <td>549.51</td>\n",
       "      <td>1.0</td>\n",
       "      <td>NaN</td>\n",
       "    </tr>\n",
       "    <tr>\n",
       "      <th>42719</th>\n",
       "      <td>119395</td>\n",
       "      <td>José Ramon (nuevo email)</td>\n",
       "      <td>B78964368</td>\n",
       "      <td>DTC1250E-USB - HID - DTC1250E USB</td>\n",
       "      <td>680.08</td>\n",
       "      <td>1.0</td>\n",
       "      <td>NaN</td>\n",
       "    </tr>\n",
       "    <tr>\n",
       "      <th>42725</th>\n",
       "      <td>119428</td>\n",
       "      <td>TEKMAFLUID SL</td>\n",
       "      <td>B63299747</td>\n",
       "      <td>HOMEBASE SCANPAL5100 W/USB CBL (PSU COMES W/TH...</td>\n",
       "      <td>49.12</td>\n",
       "      <td>1.0</td>\n",
       "      <td>NaN</td>\n",
       "    </tr>\n",
       "    <tr>\n",
       "      <th>42727</th>\n",
       "      <td>119448</td>\n",
       "      <td>PELAYO ELECTRONICA S.L.U</td>\n",
       "      <td>B88522628</td>\n",
       "      <td>BTRY Lion 1202/1902/1911i/3820/4820</td>\n",
       "      <td>137.55</td>\n",
       "      <td>5.0</td>\n",
       "      <td>NaN</td>\n",
       "    </tr>\n",
       "    <tr>\n",
       "      <th>42735</th>\n",
       "      <td>119490</td>\n",
       "      <td>CONTABILIDAD</td>\n",
       "      <td>A28061075</td>\n",
       "      <td>HID - BSBV WILL PURCHASE BY BOX FARGO RBN DTC1...</td>\n",
       "      <td>175.40</td>\n",
       "      <td>5.0</td>\n",
       "      <td>NaN</td>\n",
       "    </tr>\n",
       "  </tbody>\n",
       "</table>\n",
       "<p>8458 rows × 7 columns</p>\n",
       "</div>"
      ],
      "text/plain": [
       "           id                                name        vat  \\\n",
       "6         131   Gestion Logistica Eficiente, S.L.          B   \n",
       "7         132           gasolineras reunidas s.a.  a30030449   \n",
       "9         137  SISTEMAS INTEGRALES DE CALIDAD S.L  B82196874   \n",
       "12        141          O.C Packages at Home, S.L.  B85451318   \n",
       "15        145  ANTONI BALLARIN MUÑOZ (yoigomitre)  35069608j   \n",
       "...       ...                                 ...        ...   \n",
       "42716  119351                    \\tRosario Moreno  A84149533   \n",
       "42719  119395            José Ramon (nuevo email)  B78964368   \n",
       "42725  119428                       TEKMAFLUID SL  B63299747   \n",
       "42727  119448            PELAYO ELECTRONICA S.L.U  B88522628   \n",
       "42735  119490                        CONTABILIDAD  A28061075   \n",
       "\n",
       "                                                  name-2  price_subtotal  \\\n",
       "6      VOYAGER PDF MS9544 USB BLK KIT STAND + USB CBL...          127.91   \n",
       "7      VOYAGER PDF MS9544 USB BLK KIT STAND + USB CBL...          153.49   \n",
       "9                                YMCKOK RIBBON FOR P120            36.50   \n",
       "12            ANT 2.4-5.2GHZ DUAL DP 2DBI INDOOR ANTENNA          168.84   \n",
       "15                         YMCKO RIBBON FOR P1xx 1 UNIT            86.16   \n",
       "...                                                  ...             ...   \n",
       "42716                  MC45; 3,5G WAN 2100 MHZ; ENGLI SH          549.51   \n",
       "42719                  DTC1250E-USB - HID - DTC1250E USB          680.08   \n",
       "42725  HOMEBASE SCANPAL5100 W/USB CBL (PSU COMES W/TH...           49.12   \n",
       "42727                BTRY Lion 1202/1902/1911i/3820/4820          137.55   \n",
       "42735  HID - BSBV WILL PURCHASE BY BOX FARGO RBN DTC1...          175.40   \n",
       "\n",
       "       quantity  sku  \n",
       "6           1.0  NaN  \n",
       "7           1.0  NaN  \n",
       "9           1.0  NaN  \n",
       "12         14.0  NaN  \n",
       "15          3.0  NaN  \n",
       "...         ...  ...  \n",
       "42716       1.0  NaN  \n",
       "42719       1.0  NaN  \n",
       "42725       1.0  NaN  \n",
       "42727       5.0  NaN  \n",
       "42735       5.0  NaN  \n",
       "\n",
       "[8458 rows x 7 columns]"
      ]
     },
     "execution_count": 219,
     "metadata": {},
     "output_type": "execute_result"
    }
   ],
   "source": [
    "na"
   ]
  }
 ],
 "metadata": {
  "kernelspec": {
   "display_name": "Python 3",
   "language": "python",
   "name": "python3"
  },
  "language_info": {
   "codemirror_mode": {
    "name": "ipython",
    "version": 3
   },
   "file_extension": ".py",
   "mimetype": "text/x-python",
   "name": "python",
   "nbconvert_exporter": "python",
   "pygments_lexer": "ipython3",
   "version": "3.7.4"
  }
 },
 "nbformat": 4,
 "nbformat_minor": 2
}
