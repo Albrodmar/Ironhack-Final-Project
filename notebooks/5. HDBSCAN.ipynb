{
 "cells": [
  {
   "cell_type": "code",
   "execution_count": 13,
   "metadata": {},
   "outputs": [],
   "source": [
    "import matplotlib.pyplot as plt\n",
    "import seaborn as sns\n",
    "import numpy as np\n",
    "import pandas as pd\n",
    "import os\n",
    "import csv\n",
    "import pandas.util.testing as tm\n",
    "\n",
    "import umap\n",
    "import hdbscan\n",
    "\n",
    "%matplotlib inline"
   ]
  },
  {
   "cell_type": "code",
   "execution_count": 96,
   "metadata": {},
   "outputs": [],
   "source": [
    "df_= pd.read_csv('../data2/processed/DATAFRAME.csv', index_col = 0)"
   ]
  },
  {
   "cell_type": "code",
   "execution_count": 98,
   "metadata": {},
   "outputs": [
    {
     "data": {
      "text/html": [
       "<div>\n",
       "<style scoped>\n",
       "    .dataframe tbody tr th:only-of-type {\n",
       "        vertical-align: middle;\n",
       "    }\n",
       "\n",
       "    .dataframe tbody tr th {\n",
       "        vertical-align: top;\n",
       "    }\n",
       "\n",
       "    .dataframe thead th {\n",
       "        text-align: right;\n",
       "    }\n",
       "</style>\n",
       "<table border=\"1\" class=\"dataframe\">\n",
       "  <thead>\n",
       "    <tr style=\"text-align: right;\">\n",
       "      <th></th>\n",
       "      <th>id</th>\n",
       "      <th>vat</th>\n",
       "      <th>total_value</th>\n",
       "      <th>total_quantity</th>\n",
       "      <th>Wristband_value</th>\n",
       "      <th>Wristband_quantity</th>\n",
       "      <th>RFID_value</th>\n",
       "      <th>RFID_quantity</th>\n",
       "      <th>Tickets_value</th>\n",
       "      <th>Tickets_quantity</th>\n",
       "      <th>...</th>\n",
       "      <th>Ribbon_value</th>\n",
       "      <th>Ribbon_quantity</th>\n",
       "      <th>TicketPrinter_value</th>\n",
       "      <th>TicketPrinter_quantity</th>\n",
       "      <th>Printhead_value</th>\n",
       "      <th>Printhead_quantity</th>\n",
       "      <th>Accessories_value</th>\n",
       "      <th>Accessories_quantity</th>\n",
       "      <th>provincia_encoded</th>\n",
       "      <th>cnae_encoded</th>\n",
       "    </tr>\n",
       "  </thead>\n",
       "  <tbody>\n",
       "    <tr>\n",
       "      <th>0</th>\n",
       "      <td>125</td>\n",
       "      <td>A28415495</td>\n",
       "      <td>239.0</td>\n",
       "      <td>1</td>\n",
       "      <td>0.0</td>\n",
       "      <td>0.0</td>\n",
       "      <td>0.0</td>\n",
       "      <td>0.0</td>\n",
       "      <td>0.0</td>\n",
       "      <td>0.0</td>\n",
       "      <td>...</td>\n",
       "      <td>0.0</td>\n",
       "      <td>0.0</td>\n",
       "      <td>0.0</td>\n",
       "      <td>0.0</td>\n",
       "      <td>0.0</td>\n",
       "      <td>0.0</td>\n",
       "      <td>0.0</td>\n",
       "      <td>0.0</td>\n",
       "      <td>30</td>\n",
       "      <td>199</td>\n",
       "    </tr>\n",
       "  </tbody>\n",
       "</table>\n",
       "<p>1 rows × 36 columns</p>\n",
       "</div>"
      ],
      "text/plain": [
       "    id        vat  total_value  total_quantity  Wristband_value  \\\n",
       "0  125  A28415495        239.0               1              0.0   \n",
       "\n",
       "   Wristband_quantity  RFID_value  RFID_quantity  Tickets_value  \\\n",
       "0                 0.0         0.0            0.0            0.0   \n",
       "\n",
       "   Tickets_quantity  ...  Ribbon_value  Ribbon_quantity  TicketPrinter_value  \\\n",
       "0               0.0  ...           0.0              0.0                  0.0   \n",
       "\n",
       "   TicketPrinter_quantity  Printhead_value  Printhead_quantity  \\\n",
       "0                     0.0              0.0                 0.0   \n",
       "\n",
       "   Accessories_value  Accessories_quantity  provincia_encoded  cnae_encoded  \n",
       "0                0.0                   0.0                 30           199  \n",
       "\n",
       "[1 rows x 36 columns]"
      ]
     },
     "execution_count": 98,
     "metadata": {},
     "output_type": "execute_result"
    }
   ],
   "source": [
    "df_.head(1)"
   ]
  },
  {
   "cell_type": "code",
   "execution_count": 99,
   "metadata": {},
   "outputs": [
    {
     "data": {
      "text/plain": [
       "(9618, 34)"
      ]
     },
     "execution_count": 99,
     "metadata": {},
     "output_type": "execute_result"
    }
   ],
   "source": [
    "df = df_.drop(['id','vat'], axis=1)\n",
    "df.shape"
   ]
  },
  {
   "cell_type": "markdown",
   "metadata": {},
   "source": [
    "# The UMAP reduction finally choosed"
   ]
  },
  {
   "cell_type": "code",
   "execution_count": 103,
   "metadata": {},
   "outputs": [
    {
     "name": "stderr",
     "output_type": "stream",
     "text": [
      "/home/alberto/miniconda3/envs/project_env/lib/python3.7/site-packages/numba/typed_passes.py:293: NumbaPerformanceWarning: \n",
      "The keyword argument 'parallel=True' was specified but no transformation for parallel execution was possible.\n",
      "\n",
      "To find out why, try turning on parallel diagnostics, see http://numba.pydata.org/numba-doc/latest/user/parallel.html#diagnostics for help.\n",
      "\n",
      "File \"../../../../miniconda3/envs/project_env/lib/python3.7/site-packages/umap/nndescent.py\", line 47:\n",
      "    @numba.njit(parallel=True)\n",
      "    def nn_descent(\n",
      "    ^\n",
      "\n",
      "  state.func_ir.loc))\n"
     ]
    },
    {
     "name": "stdout",
     "output_type": "stream",
     "text": [
      "CPU times: user 52.7 s, sys: 216 ms, total: 52.9 s\n",
      "Wall time: 51.3 s\n"
     ]
    },
    {
     "data": {
      "image/png": "[encoded data removed]",
      "text/plain": [
       "<Figure size 432x288 with 1 Axes>"
      ]
     },
     "metadata": {
      "needs_background": "light"
     },
     "output_type": "display_data"
    }
   ],
   "source": [
    "fit = umap.UMAP(\n",
    "        n_neighbors=20,\n",
    "        min_dist=0.1,\n",
    "        n_components=2,\n",
    "        metric='manhattan',\n",
    "        random_state= 42)\n",
    "%time u = fit.fit_transform(df)\n",
    "plt.scatter(u[:, 0], u[:, 1], cmap='Spectral', s=5)\n",
    "plt.gca().set_aspect('equal', 'datalim')\n",
    "plt.title('UMAP: Manhattan #20 neighbors, #0.1 min_dist', fontsize=24);  "
   ]
  },
  {
   "cell_type": "markdown",
   "metadata": {},
   "source": [
    "Applying the HDBSCAN to identify clusters\n"
   ]
  },
  {
   "cell_type": "code",
   "execution_count": 112,
   "metadata": {},
   "outputs": [
    {
     "data": {
      "text/plain": [
       "HDBSCAN(algorithm='best', allow_single_cluster=False, alpha=1.0,\n",
       "        approx_min_span_tree=True, cluster_selection_epsilon=0.0,\n",
       "        cluster_selection_method='eom', core_dist_n_jobs=4,\n",
       "        gen_min_span_tree=False, leaf_size=40,\n",
       "        match_reference_implementation=False, memory=Memory(location=None),\n",
       "        metric='euclidean', min_cluster_size=100, min_samples=None, p=None,\n",
       "        prediction_data=False)"
      ]
     },
     "execution_count": 112,
     "metadata": {},
     "output_type": "execute_result"
    }
   ],
   "source": [
    "clusterer = hdbscan.HDBSCAN(min_cluster_size=100)\n",
    "clusterer.fit(u)\n",
    "clusterer"
   ]
  },
  {
   "cell_type": "code",
   "execution_count": 113,
   "metadata": {},
   "outputs": [
    {
     "data": {
      "image/png": "[encoded data removed]",
      "text/plain": [
       "<Figure size 432x288 with 1 Axes>"
      ]
     },
     "metadata": {
      "needs_background": "light"
     },
     "output_type": "display_data"
    }
   ],
   "source": [
    "plt.scatter(u[:, 0], u[:, 1], c=clusterer.labels_, cmap='Spectral', s=5)\n",
    "plt.gca().set_aspect('equal', 'datalim')\n",
    "#plt.colorbar(boundaries=np.arange(len(np.unique(clusterer.labels_)))+1).set_ticks(np.arange(len(np.unique(clusterer.labels_))))\n",
    "plt.title('HDBSCAN', fontsize=20);"
   ]
  },
  {
   "cell_type": "markdown",
   "metadata": {},
   "source": [
    "# Decido trabajar con esta clusterización"
   ]
  },
  {
   "cell_type": "code",
   "execution_count": 116,
   "metadata": {},
   "outputs": [
    {
     "data": {
      "text/plain": [
       "array([0, 5, 5, ..., 2, 2, 5])"
      ]
     },
     "execution_count": 116,
     "metadata": {},
     "output_type": "execute_result"
    }
   ],
   "source": [
    "clusterer.labels_"
   ]
  },
  {
   "cell_type": "code",
   "execution_count": 117,
   "metadata": {},
   "outputs": [],
   "source": [
    "df_['clusters'] = clusterer.labels_"
   ]
  },
  {
   "cell_type": "code",
   "execution_count": 118,
   "metadata": {},
   "outputs": [
    {
     "data": {
      "text/html": [
       "<div>\n",
       "<style scoped>\n",
       "    .dataframe tbody tr th:only-of-type {\n",
       "        vertical-align: middle;\n",
       "    }\n",
       "\n",
       "    .dataframe tbody tr th {\n",
       "        vertical-align: top;\n",
       "    }\n",
       "\n",
       "    .dataframe thead th {\n",
       "        text-align: right;\n",
       "    }\n",
       "</style>\n",
       "<table border=\"1\" class=\"dataframe\">\n",
       "  <thead>\n",
       "    <tr style=\"text-align: right;\">\n",
       "      <th></th>\n",
       "      <th>id</th>\n",
       "      <th>vat</th>\n",
       "      <th>total_value</th>\n",
       "      <th>total_quantity</th>\n",
       "      <th>Wristband_value</th>\n",
       "      <th>Wristband_quantity</th>\n",
       "      <th>RFID_value</th>\n",
       "      <th>RFID_quantity</th>\n",
       "      <th>Tickets_value</th>\n",
       "      <th>Tickets_quantity</th>\n",
       "      <th>...</th>\n",
       "      <th>Ribbon_quantity</th>\n",
       "      <th>TicketPrinter_value</th>\n",
       "      <th>TicketPrinter_quantity</th>\n",
       "      <th>Printhead_value</th>\n",
       "      <th>Printhead_quantity</th>\n",
       "      <th>Accessories_value</th>\n",
       "      <th>Accessories_quantity</th>\n",
       "      <th>provincia_encoded</th>\n",
       "      <th>cnae_encoded</th>\n",
       "      <th>clusters</th>\n",
       "    </tr>\n",
       "  </thead>\n",
       "  <tbody>\n",
       "    <tr>\n",
       "      <th>0</th>\n",
       "      <td>125</td>\n",
       "      <td>A28415495</td>\n",
       "      <td>239.00</td>\n",
       "      <td>1</td>\n",
       "      <td>0.0</td>\n",
       "      <td>0.0</td>\n",
       "      <td>0.0</td>\n",
       "      <td>0.0</td>\n",
       "      <td>0.0</td>\n",
       "      <td>0.0</td>\n",
       "      <td>...</td>\n",
       "      <td>0.0</td>\n",
       "      <td>0.0</td>\n",
       "      <td>0.0</td>\n",
       "      <td>0.0</td>\n",
       "      <td>0.0</td>\n",
       "      <td>0.00</td>\n",
       "      <td>0.0</td>\n",
       "      <td>30</td>\n",
       "      <td>199</td>\n",
       "      <td>0</td>\n",
       "    </tr>\n",
       "    <tr>\n",
       "      <th>1</th>\n",
       "      <td>139</td>\n",
       "      <td>B12026183</td>\n",
       "      <td>43.80</td>\n",
       "      <td>1</td>\n",
       "      <td>0.0</td>\n",
       "      <td>0.0</td>\n",
       "      <td>0.0</td>\n",
       "      <td>0.0</td>\n",
       "      <td>0.0</td>\n",
       "      <td>0.0</td>\n",
       "      <td>...</td>\n",
       "      <td>0.0</td>\n",
       "      <td>0.0</td>\n",
       "      <td>0.0</td>\n",
       "      <td>0.0</td>\n",
       "      <td>0.0</td>\n",
       "      <td>43.80</td>\n",
       "      <td>1.0</td>\n",
       "      <td>11</td>\n",
       "      <td>263</td>\n",
       "      <td>5</td>\n",
       "    </tr>\n",
       "    <tr>\n",
       "      <th>2</th>\n",
       "      <td>149</td>\n",
       "      <td>B64898562</td>\n",
       "      <td>432.80</td>\n",
       "      <td>16</td>\n",
       "      <td>0.0</td>\n",
       "      <td>0.0</td>\n",
       "      <td>0.0</td>\n",
       "      <td>0.0</td>\n",
       "      <td>0.0</td>\n",
       "      <td>0.0</td>\n",
       "      <td>...</td>\n",
       "      <td>0.0</td>\n",
       "      <td>0.0</td>\n",
       "      <td>0.0</td>\n",
       "      <td>0.0</td>\n",
       "      <td>0.0</td>\n",
       "      <td>103.38</td>\n",
       "      <td>3.0</td>\n",
       "      <td>7</td>\n",
       "      <td>375</td>\n",
       "      <td>5</td>\n",
       "    </tr>\n",
       "    <tr>\n",
       "      <th>3</th>\n",
       "      <td>32275</td>\n",
       "      <td>B64898562</td>\n",
       "      <td>432.80</td>\n",
       "      <td>16</td>\n",
       "      <td>0.0</td>\n",
       "      <td>0.0</td>\n",
       "      <td>0.0</td>\n",
       "      <td>0.0</td>\n",
       "      <td>0.0</td>\n",
       "      <td>0.0</td>\n",
       "      <td>...</td>\n",
       "      <td>12.0</td>\n",
       "      <td>0.0</td>\n",
       "      <td>0.0</td>\n",
       "      <td>0.0</td>\n",
       "      <td>0.0</td>\n",
       "      <td>0.00</td>\n",
       "      <td>0.0</td>\n",
       "      <td>7</td>\n",
       "      <td>375</td>\n",
       "      <td>5</td>\n",
       "    </tr>\n",
       "    <tr>\n",
       "      <th>4</th>\n",
       "      <td>32405</td>\n",
       "      <td>B64898562</td>\n",
       "      <td>432.80</td>\n",
       "      <td>16</td>\n",
       "      <td>0.0</td>\n",
       "      <td>0.0</td>\n",
       "      <td>0.0</td>\n",
       "      <td>0.0</td>\n",
       "      <td>0.0</td>\n",
       "      <td>0.0</td>\n",
       "      <td>...</td>\n",
       "      <td>0.0</td>\n",
       "      <td>0.0</td>\n",
       "      <td>0.0</td>\n",
       "      <td>0.0</td>\n",
       "      <td>0.0</td>\n",
       "      <td>0.00</td>\n",
       "      <td>0.0</td>\n",
       "      <td>7</td>\n",
       "      <td>375</td>\n",
       "      <td>0</td>\n",
       "    </tr>\n",
       "    <tr>\n",
       "      <th>...</th>\n",
       "      <td>...</td>\n",
       "      <td>...</td>\n",
       "      <td>...</td>\n",
       "      <td>...</td>\n",
       "      <td>...</td>\n",
       "      <td>...</td>\n",
       "      <td>...</td>\n",
       "      <td>...</td>\n",
       "      <td>...</td>\n",
       "      <td>...</td>\n",
       "      <td>...</td>\n",
       "      <td>...</td>\n",
       "      <td>...</td>\n",
       "      <td>...</td>\n",
       "      <td>...</td>\n",
       "      <td>...</td>\n",
       "      <td>...</td>\n",
       "      <td>...</td>\n",
       "      <td>...</td>\n",
       "      <td>...</td>\n",
       "      <td>...</td>\n",
       "    </tr>\n",
       "    <tr>\n",
       "      <th>10397</th>\n",
       "      <td>119197</td>\n",
       "      <td>B66572249</td>\n",
       "      <td>85.79</td>\n",
       "      <td>1</td>\n",
       "      <td>0.0</td>\n",
       "      <td>0.0</td>\n",
       "      <td>0.0</td>\n",
       "      <td>0.0</td>\n",
       "      <td>0.0</td>\n",
       "      <td>0.0</td>\n",
       "      <td>...</td>\n",
       "      <td>0.0</td>\n",
       "      <td>0.0</td>\n",
       "      <td>0.0</td>\n",
       "      <td>0.0</td>\n",
       "      <td>0.0</td>\n",
       "      <td>0.00</td>\n",
       "      <td>0.0</td>\n",
       "      <td>7</td>\n",
       "      <td>376</td>\n",
       "      <td>2</td>\n",
       "    </tr>\n",
       "    <tr>\n",
       "      <th>10398</th>\n",
       "      <td>119338</td>\n",
       "      <td>B34204974</td>\n",
       "      <td>472.50</td>\n",
       "      <td>1</td>\n",
       "      <td>0.0</td>\n",
       "      <td>0.0</td>\n",
       "      <td>0.0</td>\n",
       "      <td>0.0</td>\n",
       "      <td>0.0</td>\n",
       "      <td>0.0</td>\n",
       "      <td>...</td>\n",
       "      <td>0.0</td>\n",
       "      <td>0.0</td>\n",
       "      <td>0.0</td>\n",
       "      <td>0.0</td>\n",
       "      <td>0.0</td>\n",
       "      <td>0.00</td>\n",
       "      <td>0.0</td>\n",
       "      <td>36</td>\n",
       "      <td>307</td>\n",
       "      <td>2</td>\n",
       "    </tr>\n",
       "    <tr>\n",
       "      <th>10399</th>\n",
       "      <td>119340</td>\n",
       "      <td>B70135371</td>\n",
       "      <td>472.50</td>\n",
       "      <td>1</td>\n",
       "      <td>0.0</td>\n",
       "      <td>0.0</td>\n",
       "      <td>0.0</td>\n",
       "      <td>0.0</td>\n",
       "      <td>0.0</td>\n",
       "      <td>0.0</td>\n",
       "      <td>...</td>\n",
       "      <td>0.0</td>\n",
       "      <td>0.0</td>\n",
       "      <td>0.0</td>\n",
       "      <td>0.0</td>\n",
       "      <td>0.0</td>\n",
       "      <td>0.00</td>\n",
       "      <td>0.0</td>\n",
       "      <td>25</td>\n",
       "      <td>336</td>\n",
       "      <td>2</td>\n",
       "    </tr>\n",
       "    <tr>\n",
       "      <th>10400</th>\n",
       "      <td>119376</td>\n",
       "      <td>47364071X</td>\n",
       "      <td>366.41</td>\n",
       "      <td>1</td>\n",
       "      <td>0.0</td>\n",
       "      <td>0.0</td>\n",
       "      <td>0.0</td>\n",
       "      <td>0.0</td>\n",
       "      <td>0.0</td>\n",
       "      <td>0.0</td>\n",
       "      <td>...</td>\n",
       "      <td>0.0</td>\n",
       "      <td>0.0</td>\n",
       "      <td>0.0</td>\n",
       "      <td>0.0</td>\n",
       "      <td>0.0</td>\n",
       "      <td>0.00</td>\n",
       "      <td>0.0</td>\n",
       "      <td>25</td>\n",
       "      <td>411</td>\n",
       "      <td>2</td>\n",
       "    </tr>\n",
       "    <tr>\n",
       "      <th>10401</th>\n",
       "      <td>119409</td>\n",
       "      <td>B80465172</td>\n",
       "      <td>122.65</td>\n",
       "      <td>1</td>\n",
       "      <td>0.0</td>\n",
       "      <td>0.0</td>\n",
       "      <td>0.0</td>\n",
       "      <td>0.0</td>\n",
       "      <td>0.0</td>\n",
       "      <td>0.0</td>\n",
       "      <td>...</td>\n",
       "      <td>0.0</td>\n",
       "      <td>0.0</td>\n",
       "      <td>0.0</td>\n",
       "      <td>0.0</td>\n",
       "      <td>0.0</td>\n",
       "      <td>122.65</td>\n",
       "      <td>1.0</td>\n",
       "      <td>30</td>\n",
       "      <td>285</td>\n",
       "      <td>5</td>\n",
       "    </tr>\n",
       "  </tbody>\n",
       "</table>\n",
       "<p>9618 rows × 37 columns</p>\n",
       "</div>"
      ],
      "text/plain": [
       "           id        vat  total_value  total_quantity  Wristband_value  \\\n",
       "0         125  A28415495       239.00               1              0.0   \n",
       "1         139  B12026183        43.80               1              0.0   \n",
       "2         149  B64898562       432.80              16              0.0   \n",
       "3       32275  B64898562       432.80              16              0.0   \n",
       "4       32405  B64898562       432.80              16              0.0   \n",
       "...       ...        ...          ...             ...              ...   \n",
       "10397  119197  B66572249        85.79               1              0.0   \n",
       "10398  119338  B34204974       472.50               1              0.0   \n",
       "10399  119340  B70135371       472.50               1              0.0   \n",
       "10400  119376  47364071X       366.41               1              0.0   \n",
       "10401  119409  B80465172       122.65               1              0.0   \n",
       "\n",
       "       Wristband_quantity  RFID_value  RFID_quantity  Tickets_value  \\\n",
       "0                     0.0         0.0            0.0            0.0   \n",
       "1                     0.0         0.0            0.0            0.0   \n",
       "2                     0.0         0.0            0.0            0.0   \n",
       "3                     0.0         0.0            0.0            0.0   \n",
       "4                     0.0         0.0            0.0            0.0   \n",
       "...                   ...         ...            ...            ...   \n",
       "10397                 0.0         0.0            0.0            0.0   \n",
       "10398                 0.0         0.0            0.0            0.0   \n",
       "10399                 0.0         0.0            0.0            0.0   \n",
       "10400                 0.0         0.0            0.0            0.0   \n",
       "10401                 0.0         0.0            0.0            0.0   \n",
       "\n",
       "       Tickets_quantity  ...  Ribbon_quantity  TicketPrinter_value  \\\n",
       "0                   0.0  ...              0.0                  0.0   \n",
       "1                   0.0  ...              0.0                  0.0   \n",
       "2                   0.0  ...              0.0                  0.0   \n",
       "3                   0.0  ...             12.0                  0.0   \n",
       "4                   0.0  ...              0.0                  0.0   \n",
       "...                 ...  ...              ...                  ...   \n",
       "10397               0.0  ...              0.0                  0.0   \n",
       "10398               0.0  ...              0.0                  0.0   \n",
       "10399               0.0  ...              0.0                  0.0   \n",
       "10400               0.0  ...              0.0                  0.0   \n",
       "10401               0.0  ...              0.0                  0.0   \n",
       "\n",
       "       TicketPrinter_quantity  Printhead_value  Printhead_quantity  \\\n",
       "0                         0.0              0.0                 0.0   \n",
       "1                         0.0              0.0                 0.0   \n",
       "2                         0.0              0.0                 0.0   \n",
       "3                         0.0              0.0                 0.0   \n",
       "4                         0.0              0.0                 0.0   \n",
       "...                       ...              ...                 ...   \n",
       "10397                     0.0              0.0                 0.0   \n",
       "10398                     0.0              0.0                 0.0   \n",
       "10399                     0.0              0.0                 0.0   \n",
       "10400                     0.0              0.0                 0.0   \n",
       "10401                     0.0              0.0                 0.0   \n",
       "\n",
       "       Accessories_value  Accessories_quantity  provincia_encoded  \\\n",
       "0                   0.00                   0.0                 30   \n",
       "1                  43.80                   1.0                 11   \n",
       "2                 103.38                   3.0                  7   \n",
       "3                   0.00                   0.0                  7   \n",
       "4                   0.00                   0.0                  7   \n",
       "...                  ...                   ...                ...   \n",
       "10397               0.00                   0.0                  7   \n",
       "10398               0.00                   0.0                 36   \n",
       "10399               0.00                   0.0                 25   \n",
       "10400               0.00                   0.0                 25   \n",
       "10401             122.65                   1.0                 30   \n",
       "\n",
       "       cnae_encoded  clusters  \n",
       "0               199         0  \n",
       "1               263         5  \n",
       "2               375         5  \n",
       "3               375         5  \n",
       "4               375         0  \n",
       "...             ...       ...  \n",
       "10397           376         2  \n",
       "10398           307         2  \n",
       "10399           336         2  \n",
       "10400           411         2  \n",
       "10401           285         5  \n",
       "\n",
       "[9618 rows x 37 columns]"
      ]
     },
     "execution_count": 118,
     "metadata": {},
     "output_type": "execute_result"
    }
   ],
   "source": [
    "df_"
   ]
  },
  {
   "cell_type": "code",
   "execution_count": 120,
   "metadata": {},
   "outputs": [
    {
     "data": {
      "text/plain": [
       " 5    5144\n",
       " 2    2287\n",
       " 0     979\n",
       " 1     738\n",
       " 4     189\n",
       " 3     168\n",
       "-1     113\n",
       "Name: clusters, dtype: int64"
      ]
     },
     "execution_count": 120,
     "metadata": {},
     "output_type": "execute_result"
    }
   ],
   "source": [
    "df_['clusters'].value_counts()"
   ]
  },
  {
   "cell_type": "code",
   "execution_count": 121,
   "metadata": {},
   "outputs": [],
   "source": [
    "companies = pd.read_csv('../data2/processed/final_companies.csv', index_col = 0)"
   ]
  },
  {
   "cell_type": "code",
   "execution_count": 127,
   "metadata": {},
   "outputs": [],
   "source": [
    "df_final = pd.merge(df_, companies, how = 'left', on = 'vat')"
   ]
  },
  {
   "cell_type": "code",
   "execution_count": 133,
   "metadata": {},
   "outputs": [
    {
     "data": {
      "text/plain": [
       "Index(['id', 'vat', 'total_value', 'total_quantity', 'Wristband_value',\n",
       "       'Wristband_quantity', 'RFID_value', 'RFID_quantity', 'Tickets_value',\n",
       "       'Tickets_quantity', 'CardPrinter_value', 'CardPrinter_quantity',\n",
       "       'TouchScreen_value', 'TouchScreen_quantity', 'Card_value',\n",
       "       'Card_quantity', 'CardRibbon_value', 'CardRibbon_quantity',\n",
       "       'Mobile_value', 'Mobile_quantity', 'Scanner_value', 'Scanner_quantity',\n",
       "       'LabelPrinter_value', 'LabelPrinter_quantity', 'Label_value',\n",
       "       'Label_quantity', 'Ribbon_value', 'Ribbon_quantity',\n",
       "       'TicketPrinter_value', 'TicketPrinter_quantity', 'Printhead_value',\n",
       "       'Printhead_quantity', 'Accessories_value', 'Accessories_quantity',\n",
       "       'provincia_encoded_x', 'cnae_encoded_x', 'clusters', 'CNAE',\n",
       "       'provincia', 'provincia_encoded_y', 'cnae_encoded_y'],\n",
       "      dtype='object')"
      ]
     },
     "execution_count": 133,
     "metadata": {},
     "output_type": "execute_result"
    }
   ],
   "source": [
    "df_final.columns"
   ]
  },
  {
   "cell_type": "code",
   "execution_count": 136,
   "metadata": {},
   "outputs": [],
   "source": [
    "df_final = df_final[['clusters','id',\n",
    "'vat',\n",
    "'CNAE',\n",
    "'provincia',\n",
    "'total_value',\n",
    "'total_quantity',\n",
    "'Wristband_value',\n",
    "'Wristband_quantity',\n",
    "'RFID_value',\n",
    "'RFID_quantity',\n",
    "'Tickets_value',\n",
    "'Tickets_quantity',\n",
    "'CardPrinter_value',\n",
    "'CardPrinter_quantity',\n",
    "'TouchScreen_value',\n",
    "'TouchScreen_quantity',\n",
    "'Card_value',\n",
    "'Card_quantity',\n",
    "'CardRibbon_value',\n",
    "'CardRibbon_quantity',\n",
    "'Mobile_value',\n",
    "'Mobile_quantity',\n",
    "'Scanner_value',\n",
    "'Scanner_quantity',\n",
    "'LabelPrinter_value',\n",
    "'LabelPrinter_quantity',\n",
    "'Label_value',\n",
    "'Label_quantity',\n",
    "'Ribbon_value',\n",
    "'Ribbon_quantity',\n",
    "'TicketPrinter_value',\n",
    "'TicketPrinter_quantity',\n",
    "'Printhead_value',\n",
    "'Printhead_quantity',\n",
    "'Accessories_value',\n",
    "'Accessories_quantity',\n",
    "'provincia_encoded_x',\n",
    "'cnae_encoded_x',\n",
    "'provincia_encoded_y',\n",
    "'cnae_encoded_y']]"
   ]
  },
  {
   "cell_type": "code",
   "execution_count": 138,
   "metadata": {},
   "outputs": [],
   "source": [
    "df_final.to_csv('../data2/processed/FINAL_CLUSTERED.csv')"
   ]
  },
  {
   "cell_type": "code",
   "execution_count": null,
   "metadata": {},
   "outputs": [],
   "source": []
  }
 ],
 "metadata": {
  "kernelspec": {
   "display_name": "Python [conda env:project_env]",
   "language": "python",
   "name": "conda-env-project_env-py"
  },
  "language_info": {
   "codemirror_mode": {
    "name": "ipython",
    "version": 3
   },
   "file_extension": ".py",
   "mimetype": "text/x-python",
   "name": "python",
   "nbconvert_exporter": "python",
   "pygments_lexer": "ipython3",
   "version": "3.7.5"
  }
 },
 "nbformat": 4,
 "nbformat_minor": 4
}
