{
 "cells": [
  {
   "cell_type": "markdown",
   "metadata": {},
   "source": [
    "## 0. Importing and reading df with sales"
   ]
  },
  {
   "cell_type": "code",
   "execution_count": 221,
   "metadata": {},
   "outputs": [],
   "source": [
    "import pandas as pd"
   ]
  },
  {
   "cell_type": "code",
   "execution_count": 235,
   "metadata": {},
   "outputs": [],
   "source": [
    "df = pd.read_csv('../data2/raw/clientes_sku_ventas.csv')"
   ]
  },
  {
   "cell_type": "markdown",
   "metadata": {},
   "source": [
    "## 1. Cleaning ##"
   ]
  },
  {
   "cell_type": "markdown",
   "metadata": {},
   "source": [
    "- Cleaning VAT column. The one will use to merge with the companies enriched dataset"
   ]
  },
  {
   "cell_type": "code",
   "execution_count": 236,
   "metadata": {},
   "outputs": [],
   "source": [
    "df['vat'] = df['vat'].str.replace('ES','')\n",
    "df['vat'] = df['vat'].str.strip()"
   ]
  },
  {
   "cell_type": "markdown",
   "metadata": {},
   "source": [
    "- Cleaning name.1 column. The one will use to merge with the categorized sku dataset"
   ]
  },
  {
   "cell_type": "code",
   "execution_count": 237,
   "metadata": {},
   "outputs": [],
   "source": [
    "df['name.1'] = df['name.1'].str.strip()\n",
    "df['name.1'] = df['name.1'].str.replace('PO:','')"
   ]
  },
  {
   "cell_type": "markdown",
   "metadata": {},
   "source": [
    "- creating a 'sku' column"
   ]
  },
  {
   "cell_type": "code",
   "execution_count": 238,
   "metadata": {},
   "outputs": [],
   "source": [
    "df['sku'] = df['name.1'].str.extract('\\[(.+)\\]', expand=True)"
   ]
  },
  {
   "cell_type": "markdown",
   "metadata": {},
   "source": [
    "- Recounting number of null values in new 'sku' column"
   ]
  },
  {
   "cell_type": "code",
   "execution_count": 239,
   "metadata": {},
   "outputs": [
    {
     "data": {
      "text/plain": [
       "SERVICIOS DE REPARACION                                 267\n",
       "DS9208-SR KIT USB EMEA U21                              223\n",
       "SUMINISTROS VARIOS                                      152\n",
       "Shipping and Handling                                   138\n",
       "VOYAGER 9520 USB BLACK KIT MASKED STAND + HARD MOUNT    116\n",
       "                                                       ... \n",
       "RIBBON IMPRESORA ZEBRA 29373773                           1\n",
       "PSU EU FOR OPTIMUS                                        1\n",
       "CABLE I/F CHARGE/COMM USB FOR ACTSYNC MX8                 1\n",
       "ZM400 300DPI ZPL VPEEL LINER TAKEUP                       1\n",
       "PSU MULTI DOCK CK3                                        1\n",
       "Name: name.1, Length: 2802, dtype: int64"
      ]
     },
     "execution_count": 239,
     "metadata": {},
     "output_type": "execute_result"
    }
   ],
   "source": [
    "df[df['sku'].isnull()]['name.1'].value_counts()"
   ]
  },
  {
   "cell_type": "markdown",
   "metadata": {},
   "source": [
    "Reindexing neede to do a loop for"
   ]
  },
  {
   "cell_type": "markdown",
   "metadata": {},
   "source": [
    "- Manually assigning 'sku' values to top seller products with incorrect \"name.1\" codification"
   ]
  },
  {
   "cell_type": "code",
   "execution_count": 240,
   "metadata": {},
   "outputs": [],
   "source": [
    "for i in range(len(df)):\n",
    "    if df.loc[i,'name.1'] == 'DS9208-SR KIT USB EMEA U21':\n",
    "        df.loc[i,'sku'] = 'DS9208-SR4NNU21Z'\n",
    "    elif df.loc[i,'name.1'] == 'VOYAGER 9520 USB BLACK KIT MASKED STAND + HARD MOUNT':\n",
    "        df.loc[i,'sku'] = 'MK9520-32A38'\n",
    "    elif df.loc[i,'name.1'] == 'GK420D DT 203DPI USB SER PARAL LEL R2.0':\n",
    "        df.loc[i,'sku'] = 'GK42-200120-000'\n",
    "    elif df.loc[i,'name.1'] == 'VOYAGER MS9520 KIT USB BLACK MASKED STAND + HARD MOUNT':\n",
    "        df.loc[i,'sku'] = 'MK9520-32A38'\n",
    "    elif df.loc[i,'name.1'] == 'CN3 WIFI BTH  2D IMGR NUM 128/256 WM6,1':\n",
    "        df.loc[i,'sku'] = 'CN3BNH80000E400'\n",
    "    elif df.loc[i,'name.1'] == 'GK420T TT 203DPI USB SER PARAL LEL R2.0':\n",
    "        df.loc[i,'sku'] = 'GK42-100120-000'\n",
    "    elif df.loc[i,'name.1'] == 'SERVICIOS DE REPARACION':\n",
    "        df.loc[i,'sku'] = 'Repair'\n",
    "    elif df.loc[i,'name.1'] == 'LS2208 KIT USB BLACK STAND N':\n",
    "        df.loc[i,'sku'] = 'LS2208-7AZU0100S'\n",
    "    elif df.loc[i,'name.1'] == 'Shipping and Handling':\n",
    "        df.loc[i,'sku'] = 'Shipping and Handling'\n",
    "    elif df.loc[i,'name.1'] == 'ECLIPSE 5145 USB BLACK KIT NO STAND CG CANNOT BE DEACTIVA':\n",
    "        df.loc[i,'sku'] = 'MK5145-71A38-EU'\n",
    "    elif df.loc[i,'name.1'] == 'CABLE POWER   2M EU     TO IEC':\n",
    "        df.loc[i,'sku'] = 'AK5015'\n",
    "    elif df.loc[i,'name.1'] == 'VOYAGER 1200G BLACK USB KIT RIGID STAND / TYPE-A USB CABLE':\n",
    "        df.loc[i,'sku'] = '1200g-2USB-1F02'\n",
    "    elif df.loc[i,'name.1'] == 'VOYAGER-GS 1250G BLACK SCANNER':\n",
    "        df.loc[i,'sku'] = '1250G-2KBW-1'\n",
    "    elif df.loc[i,'name.1'] == 'SUMINISTROS VARIOS':\n",
    "        df.loc[i,'sku'] = 'unknown'\n",
    "    elif df.loc[i,'name.1'] == 'MISCELLANEOUS':\n",
    "        df.loc[i,'sku'] = 'unknown'\n",
    "    elif df.loc[i,'name.1'] == 'QUANTUM-E IS3480 RS232 EU KIT EU PSU + POWERLINK CABLE':\n",
    "        df.loc[i,'sku'] = 'MK3480-30B41'\n",
    "    elif df.loc[i,'name.1'] == 'RBN IX SERIES YMCKO  ZXP3':\n",
    "        df.loc[i,'sku'] = '800033-344'\n",
    "    elif df.loc[i,'name.1'] == 'QUICKSCAN MOBILE M2130 BLK KIT 433 MHZ USB W/BASE-CBL':\n",
    "        df.loc[i,'sku'] = 'QD2130-BKK11S'\n",
    "    elif df.loc[i,'name.1'] == 'MC75A6 HSDPA, 802.11a/b/g, 1D Cam Numeric WM6':\n",
    "        df.loc[i,'sku'] = 'MC75A6-P0CSWQRA9WR'"
   ]
  },
  {
   "cell_type": "markdown",
   "metadata": {},
   "source": [
    "- References not classified yet"
   ]
  },
  {
   "cell_type": "code",
   "execution_count": 241,
   "metadata": {},
   "outputs": [
    {
     "data": {
      "text/plain": [
       "KIT CRD PVC BLANK 30MIL 500C/B                                 65\n",
       "CRD SGL SLOT KIT ES INTL                                       53\n",
       "CS 3070 BATCH/BT USB  1D LZR LSR 512M F/EMEA+APAC+LA           49\n",
       "RIB 2300WAX 110MMX74M 12R/B                                    45\n",
       "RIB 2300WAX 64MMX74M 12R/B                                     41\n",
       "                                                               ..\n",
       "PRINTHEAD 203DPI 220XiIII 220XiII                               1\n",
       "CBL MC55/MC65 USB CHARGING                                      1\n",
       "I4208 DT/TT CSI EU/UK 203DPI DNET 3HUB                          1\n",
       "BASE CHRGING CLASS1 BT 10M 33' CAN CONNECT UP TO 7 SCANNERS     1\n",
       "GX420T TT 203DPI USB SER ETH CUTTER R2.0                        1\n",
       "Name: name.1, Length: 2783, dtype: int64"
      ]
     },
     "execution_count": 241,
     "metadata": {},
     "output_type": "execute_result"
    }
   ],
   "source": [
    "df[df['sku'].isnull()]['name.1'].value_counts()"
   ]
  },
  {
   "cell_type": "markdown",
   "metadata": {},
   "source": [
    "- For 'sku' affected by the expanded column that are not readable, change them to common category"
   ]
  },
  {
   "cell_type": "code",
   "execution_count": 242,
   "metadata": {},
   "outputs": [],
   "source": [
    "for i in range(len(df)):\n",
    "    if df.loc[i,'sku'] == 'SHIP':\n",
    "        df.loc[i,'sku'] = 'Shipping and Handling'\n",
    "    if df.loc[i,'sku'] == 'TR.EXPRESS':\n",
    "        df.loc[i,'sku'] = 'Shipping and Handling'\n",
    "    if df.loc[i,'sku'] == 'SSREP':\n",
    "        df.loc[i,'sku'] = 'Repair'\n",
    "    if df.loc[i,'sku'] == 'DIF-PREC':\n",
    "        df.loc[i,'sku'] = 'Price-offer'\n",
    "    if df.loc[i,'sku'] == 'DISCOUNT.PP':\n",
    "        df.loc[i,'sku'] = 'Price-offer'\n",
    "    if df.loc[i,'sku'] == 'DESC.PP':\n",
    "        df.loc[i,'sku'] = 'Price-offer'\n",
    "    if df.loc[i,'sku'] == 'EUR-MISC':\n",
    "        df.loc[i,'sku'] = 'unknown'"
   ]
  },
  {
   "cell_type": "code",
   "execution_count": 243,
   "metadata": {},
   "outputs": [
    {
     "data": {
      "text/plain": [
       "Shipping and Handling    5575\n",
       "Repair                    596\n",
       "unknown                   304\n",
       "DS9208-SR4NNU21Z          224\n",
       "MK9520-37A38              221\n",
       "                         ... \n",
       "ZT22042-T2E000FZ            1\n",
       "ZM400-200E-0700T            1\n",
       "942301002                   1\n",
       "GX42-100320-000             1\n",
       "73152                       1\n",
       "Name: sku, Length: 2527, dtype: int64"
      ]
     },
     "execution_count": 243,
     "metadata": {},
     "output_type": "execute_result"
    }
   ],
   "source": [
    "df['sku'].value_counts()"
   ]
  },
  {
   "cell_type": "code",
   "execution_count": 244,
   "metadata": {},
   "outputs": [
    {
     "data": {
      "text/html": [
       "<div>\n",
       "<style scoped>\n",
       "    .dataframe tbody tr th:only-of-type {\n",
       "        vertical-align: middle;\n",
       "    }\n",
       "\n",
       "    .dataframe tbody tr th {\n",
       "        vertical-align: top;\n",
       "    }\n",
       "\n",
       "    .dataframe thead th {\n",
       "        text-align: right;\n",
       "    }\n",
       "</style>\n",
       "<table border=\"1\" class=\"dataframe\">\n",
       "  <thead>\n",
       "    <tr style=\"text-align: right;\">\n",
       "      <th></th>\n",
       "      <th>id</th>\n",
       "      <th>name</th>\n",
       "      <th>vat</th>\n",
       "      <th>name.1</th>\n",
       "      <th>price_subtotal</th>\n",
       "      <th>quantity</th>\n",
       "      <th>sku</th>\n",
       "    </tr>\n",
       "  </thead>\n",
       "  <tbody>\n",
       "    <tr>\n",
       "      <th>0</th>\n",
       "      <td>47053</td>\n",
       "      <td>W3CAN INFORMATICA S.L.</td>\n",
       "      <td>B76645456</td>\n",
       "      <td>[MC75A6-PYCSWQRA9WR] MC75A6 HSDPA WLAN 1D Came...</td>\n",
       "      <td>46152.33</td>\n",
       "      <td>30.0</td>\n",
       "      <td>MC75A6-PYCSWQRA9WR</td>\n",
       "    </tr>\n",
       "    <tr>\n",
       "      <th>1</th>\n",
       "      <td>32415</td>\n",
       "      <td>.</td>\n",
       "      <td>A48010615</td>\n",
       "      <td>[DS9808-KITSERIE] DS9808 SR LECTOR KIT SERIE</td>\n",
       "      <td>43195.00</td>\n",
       "      <td>265.0</td>\n",
       "      <td>DS9808-KITSERIE</td>\n",
       "    </tr>\n",
       "    <tr>\n",
       "      <th>2</th>\n",
       "      <td>36952</td>\n",
       "      <td>CONTABILIDAD</td>\n",
       "      <td>B85991941</td>\n",
       "      <td>[MC75A6-PYCSWRRA9WR] MC75A6 HSDPA, 802.11a/b/g...</td>\n",
       "      <td>31612.15</td>\n",
       "      <td>29.0</td>\n",
       "      <td>MC75A6-PYCSWRRA9WR</td>\n",
       "    </tr>\n",
       "    <tr>\n",
       "      <th>3</th>\n",
       "      <td>3371</td>\n",
       "      <td>INTERFLEX S.L.</td>\n",
       "      <td>B08213621</td>\n",
       "      <td>[CN3-BRZDC3] CN3A/B BRONZE 3 DAYS RTB 3 YEA IN...</td>\n",
       "      <td>30092.70</td>\n",
       "      <td>110.0</td>\n",
       "      <td>CN3-BRZDC3</td>\n",
       "    </tr>\n",
       "    <tr>\n",
       "      <th>4</th>\n",
       "      <td>10894</td>\n",
       "      <td>FERROVIAL, S.A</td>\n",
       "      <td>A81939209</td>\n",
       "      <td>[MC75A6-PYCSWRRA9WR] MC75A6 HSDPA, 802.11a/b/g...</td>\n",
       "      <td>29424.03</td>\n",
       "      <td>1.0</td>\n",
       "      <td>MC75A6-PYCSWRRA9WR</td>\n",
       "    </tr>\n",
       "  </tbody>\n",
       "</table>\n",
       "</div>"
      ],
      "text/plain": [
       "      id                    name        vat  \\\n",
       "0  47053  W3CAN INFORMATICA S.L.  B76645456   \n",
       "1  32415                       .  A48010615   \n",
       "2  36952           CONTABILIDAD   B85991941   \n",
       "3   3371          INTERFLEX S.L.  B08213621   \n",
       "4  10894          FERROVIAL, S.A  A81939209   \n",
       "\n",
       "                                              name.1  price_subtotal  \\\n",
       "0  [MC75A6-PYCSWQRA9WR] MC75A6 HSDPA WLAN 1D Came...        46152.33   \n",
       "1       [DS9808-KITSERIE] DS9808 SR LECTOR KIT SERIE        43195.00   \n",
       "2  [MC75A6-PYCSWRRA9WR] MC75A6 HSDPA, 802.11a/b/g...        31612.15   \n",
       "3  [CN3-BRZDC3] CN3A/B BRONZE 3 DAYS RTB 3 YEA IN...        30092.70   \n",
       "4  [MC75A6-PYCSWRRA9WR] MC75A6 HSDPA, 802.11a/b/g...        29424.03   \n",
       "\n",
       "   quantity                 sku  \n",
       "0      30.0  MC75A6-PYCSWQRA9WR  \n",
       "1     265.0     DS9808-KITSERIE  \n",
       "2      29.0  MC75A6-PYCSWRRA9WR  \n",
       "3     110.0          CN3-BRZDC3  \n",
       "4       1.0  MC75A6-PYCSWRRA9WR  "
      ]
     },
     "execution_count": 244,
     "metadata": {},
     "output_type": "execute_result"
    }
   ],
   "source": [
    "df.head()"
   ]
  },
  {
   "cell_type": "markdown",
   "metadata": {},
   "source": [
    "Deleting columns that are not needed"
   ]
  },
  {
   "cell_type": "code",
   "execution_count": 245,
   "metadata": {},
   "outputs": [],
   "source": [
    "df.drop(columns=['name','name.1'], inplace = True)"
   ]
  },
  {
   "cell_type": "code",
   "execution_count": 246,
   "metadata": {},
   "outputs": [
    {
     "data": {
      "text/html": [
       "<div>\n",
       "<style scoped>\n",
       "    .dataframe tbody tr th:only-of-type {\n",
       "        vertical-align: middle;\n",
       "    }\n",
       "\n",
       "    .dataframe tbody tr th {\n",
       "        vertical-align: top;\n",
       "    }\n",
       "\n",
       "    .dataframe thead th {\n",
       "        text-align: right;\n",
       "    }\n",
       "</style>\n",
       "<table border=\"1\" class=\"dataframe\">\n",
       "  <thead>\n",
       "    <tr style=\"text-align: right;\">\n",
       "      <th></th>\n",
       "      <th>id</th>\n",
       "      <th>vat</th>\n",
       "      <th>price_subtotal</th>\n",
       "      <th>quantity</th>\n",
       "      <th>sku</th>\n",
       "    </tr>\n",
       "  </thead>\n",
       "  <tbody>\n",
       "    <tr>\n",
       "      <th>0</th>\n",
       "      <td>47053</td>\n",
       "      <td>B76645456</td>\n",
       "      <td>46152.33</td>\n",
       "      <td>30.0</td>\n",
       "      <td>MC75A6-PYCSWQRA9WR</td>\n",
       "    </tr>\n",
       "    <tr>\n",
       "      <th>1</th>\n",
       "      <td>32415</td>\n",
       "      <td>A48010615</td>\n",
       "      <td>43195.00</td>\n",
       "      <td>265.0</td>\n",
       "      <td>DS9808-KITSERIE</td>\n",
       "    </tr>\n",
       "    <tr>\n",
       "      <th>2</th>\n",
       "      <td>36952</td>\n",
       "      <td>B85991941</td>\n",
       "      <td>31612.15</td>\n",
       "      <td>29.0</td>\n",
       "      <td>MC75A6-PYCSWRRA9WR</td>\n",
       "    </tr>\n",
       "    <tr>\n",
       "      <th>3</th>\n",
       "      <td>3371</td>\n",
       "      <td>B08213621</td>\n",
       "      <td>30092.70</td>\n",
       "      <td>110.0</td>\n",
       "      <td>CN3-BRZDC3</td>\n",
       "    </tr>\n",
       "    <tr>\n",
       "      <th>4</th>\n",
       "      <td>10894</td>\n",
       "      <td>A81939209</td>\n",
       "      <td>29424.03</td>\n",
       "      <td>1.0</td>\n",
       "      <td>MC75A6-PYCSWRRA9WR</td>\n",
       "    </tr>\n",
       "  </tbody>\n",
       "</table>\n",
       "</div>"
      ],
      "text/plain": [
       "      id        vat  price_subtotal  quantity                 sku\n",
       "0  47053  B76645456        46152.33      30.0  MC75A6-PYCSWQRA9WR\n",
       "1  32415  A48010615        43195.00     265.0     DS9808-KITSERIE\n",
       "2  36952  B85991941        31612.15      29.0  MC75A6-PYCSWRRA9WR\n",
       "3   3371  B08213621        30092.70     110.0          CN3-BRZDC3\n",
       "4  10894  A81939209        29424.03       1.0  MC75A6-PYCSWRRA9WR"
      ]
     },
     "execution_count": 246,
     "metadata": {},
     "output_type": "execute_result"
    }
   ],
   "source": [
    "df.head()"
   ]
  },
  {
   "cell_type": "markdown",
   "metadata": {},
   "source": [
    "# Exporting df to a csv on a .gitignore folder #\n",
    "(because it has client personal details)"
   ]
  },
  {
   "cell_type": "code",
   "execution_count": 247,
   "metadata": {},
   "outputs": [],
   "source": [
    "df.to_csv('../data2/processed/sales_clean.csv', index = False)"
   ]
  },
  {
   "cell_type": "code",
   "execution_count": null,
   "metadata": {},
   "outputs": [],
   "source": []
  }
 ],
 "metadata": {
  "kernelspec": {
   "display_name": "Python [conda env:project_env]",
   "language": "python",
   "name": "conda-env-project_env-py"
  },
  "language_info": {
   "codemirror_mode": {
    "name": "ipython",
    "version": 3
   },
   "file_extension": ".py",
   "mimetype": "text/x-python",
   "name": "python",
   "nbconvert_exporter": "python",
   "pygments_lexer": "ipython3",
   "version": "3.7.5"
  }
 },
 "nbformat": 4,
 "nbformat_minor": 4
}
