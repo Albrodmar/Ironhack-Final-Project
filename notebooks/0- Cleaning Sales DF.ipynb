{
 "cells": [
  {
   "cell_type": "markdown",
   "metadata": {},
   "source": [
    "## 0. Importing and reading df with sales"
   ]
  },
  {
   "cell_type": "code",
   "execution_count": 1,
   "metadata": {},
   "outputs": [],
   "source": [
    "import pandas as pd"
   ]
  },
  {
   "cell_type": "code",
   "execution_count": 2,
   "metadata": {},
   "outputs": [],
   "source": [
    "df = pd.read_csv('../data2/raw/clientes_sku_ventas.csv')"
   ]
  },
  {
   "cell_type": "code",
   "execution_count": 3,
   "metadata": {},
   "outputs": [
    {
     "data": {
      "text/html": [
       "<div>\n",
       "<style scoped>\n",
       "    .dataframe tbody tr th:only-of-type {\n",
       "        vertical-align: middle;\n",
       "    }\n",
       "\n",
       "    .dataframe tbody tr th {\n",
       "        vertical-align: top;\n",
       "    }\n",
       "\n",
       "    .dataframe thead th {\n",
       "        text-align: right;\n",
       "    }\n",
       "</style>\n",
       "<table border=\"1\" class=\"dataframe\">\n",
       "  <thead>\n",
       "    <tr style=\"text-align: right;\">\n",
       "      <th></th>\n",
       "      <th>id</th>\n",
       "      <th>name</th>\n",
       "      <th>vat</th>\n",
       "      <th>name.1</th>\n",
       "      <th>price_subtotal</th>\n",
       "      <th>quantity</th>\n",
       "    </tr>\n",
       "  </thead>\n",
       "  <tbody>\n",
       "    <tr>\n",
       "      <th>0</th>\n",
       "      <td>47053</td>\n",
       "      <td>W3CAN INFORMATICA S.L.</td>\n",
       "      <td>ESB76645456</td>\n",
       "      <td>[MC75A6-PYCSWQRA9WR] MC75A6 HSDPA WLAN 1D Came...</td>\n",
       "      <td>46152.33</td>\n",
       "      <td>30.0</td>\n",
       "    </tr>\n",
       "    <tr>\n",
       "      <th>1</th>\n",
       "      <td>32415</td>\n",
       "      <td>.</td>\n",
       "      <td>ESA48010615</td>\n",
       "      <td>[DS9808-KITSERIE] DS9808 SR LECTOR KIT SERIE</td>\n",
       "      <td>43195.00</td>\n",
       "      <td>265.0</td>\n",
       "    </tr>\n",
       "    <tr>\n",
       "      <th>2</th>\n",
       "      <td>36952</td>\n",
       "      <td>CONTABILIDAD</td>\n",
       "      <td>ESB85991941</td>\n",
       "      <td>[MC75A6-PYCSWRRA9WR] MC75A6 HSDPA, 802.11a/b/g...</td>\n",
       "      <td>31612.15</td>\n",
       "      <td>29.0</td>\n",
       "    </tr>\n",
       "    <tr>\n",
       "      <th>3</th>\n",
       "      <td>3371</td>\n",
       "      <td>INTERFLEX S.L.</td>\n",
       "      <td>ESB08213621</td>\n",
       "      <td>[CN3-BRZDC3] CN3A/B BRONZE 3 DAYS RTB 3 YEA IN...</td>\n",
       "      <td>30092.70</td>\n",
       "      <td>110.0</td>\n",
       "    </tr>\n",
       "    <tr>\n",
       "      <th>4</th>\n",
       "      <td>10894</td>\n",
       "      <td>FERROVIAL, S.A</td>\n",
       "      <td>ESA81939209</td>\n",
       "      <td>[MC75A6-PYCSWRRA9WR] MC75A6 HSDPA, 802.11a/b/g...</td>\n",
       "      <td>29424.03</td>\n",
       "      <td>1.0</td>\n",
       "    </tr>\n",
       "    <tr>\n",
       "      <th>...</th>\n",
       "      <td>...</td>\n",
       "      <td>...</td>\n",
       "      <td>...</td>\n",
       "      <td>...</td>\n",
       "      <td>...</td>\n",
       "      <td>...</td>\n",
       "    </tr>\n",
       "    <tr>\n",
       "      <th>25974</th>\n",
       "      <td>45503</td>\n",
       "      <td>AMBAR SOFWARE SLNE</td>\n",
       "      <td>ESB65099012</td>\n",
       "      <td>[MISCELLANEOUS] MISCELLANEOUS</td>\n",
       "      <td>-2400.00</td>\n",
       "      <td>20.0</td>\n",
       "    </tr>\n",
       "    <tr>\n",
       "      <th>25975</th>\n",
       "      <td>29916</td>\n",
       "      <td>AMEFRUIT ZARAGOZA EXPORTS.L.</td>\n",
       "      <td>ESB98560816</td>\n",
       "      <td>[DIF-PREC] DIFERENCIA DE PRECIOS</td>\n",
       "      <td>-2700.00</td>\n",
       "      <td>2700.0</td>\n",
       "    </tr>\n",
       "    <tr>\n",
       "      <th>25976</th>\n",
       "      <td>94038</td>\n",
       "      <td>24 KILATES, S.L.</td>\n",
       "      <td>ESB63697387</td>\n",
       "      <td>[DISCOUNT.PP] SPECIAL DISCOUNT</td>\n",
       "      <td>-2773.29</td>\n",
       "      <td>1.0</td>\n",
       "    </tr>\n",
       "    <tr>\n",
       "      <th>25977</th>\n",
       "      <td>36954</td>\n",
       "      <td>COMPRAS</td>\n",
       "      <td>ESA08193963</td>\n",
       "      <td>[DESC.PP] DESCUENTO ESPECIAL POR PRONTO PAGO</td>\n",
       "      <td>-4959.38</td>\n",
       "      <td>1.0</td>\n",
       "    </tr>\n",
       "    <tr>\n",
       "      <th>25978</th>\n",
       "      <td>102667</td>\n",
       "      <td>PAIN TRAITEUR S.L.</td>\n",
       "      <td>ESB31926488</td>\n",
       "      <td>[CN70AN1KNU3W2100] CN70 WIFI BTH UMTS 2D IMGR ...</td>\n",
       "      <td>-12273.66</td>\n",
       "      <td>9.0</td>\n",
       "    </tr>\n",
       "  </tbody>\n",
       "</table>\n",
       "<p>25979 rows × 6 columns</p>\n",
       "</div>"
      ],
      "text/plain": [
       "           id                          name           vat  \\\n",
       "0       47053        W3CAN INFORMATICA S.L.   ESB76645456   \n",
       "1       32415                             .   ESA48010615   \n",
       "2       36952                 CONTABILIDAD    ESB85991941   \n",
       "3        3371                INTERFLEX S.L.   ESB08213621   \n",
       "4       10894                FERROVIAL, S.A   ESA81939209   \n",
       "...       ...                           ...           ...   \n",
       "25974   45503            AMBAR SOFWARE SLNE   ESB65099012   \n",
       "25975   29916  AMEFRUIT ZARAGOZA EXPORTS.L.   ESB98560816   \n",
       "25976   94038              24 KILATES, S.L.   ESB63697387   \n",
       "25977   36954                      COMPRAS   ESA08193963    \n",
       "25978  102667           PAIN TRAITEUR S.L.    ESB31926488   \n",
       "\n",
       "                                                  name.1  price_subtotal  \\\n",
       "0      [MC75A6-PYCSWQRA9WR] MC75A6 HSDPA WLAN 1D Came...        46152.33   \n",
       "1           [DS9808-KITSERIE] DS9808 SR LECTOR KIT SERIE        43195.00   \n",
       "2      [MC75A6-PYCSWRRA9WR] MC75A6 HSDPA, 802.11a/b/g...        31612.15   \n",
       "3      [CN3-BRZDC3] CN3A/B BRONZE 3 DAYS RTB 3 YEA IN...        30092.70   \n",
       "4      [MC75A6-PYCSWRRA9WR] MC75A6 HSDPA, 802.11a/b/g...        29424.03   \n",
       "...                                                  ...             ...   \n",
       "25974                      [MISCELLANEOUS] MISCELLANEOUS        -2400.00   \n",
       "25975                   [DIF-PREC] DIFERENCIA DE PRECIOS        -2700.00   \n",
       "25976                     [DISCOUNT.PP] SPECIAL DISCOUNT        -2773.29   \n",
       "25977       [DESC.PP] DESCUENTO ESPECIAL POR PRONTO PAGO        -4959.38   \n",
       "25978  [CN70AN1KNU3W2100] CN70 WIFI BTH UMTS 2D IMGR ...       -12273.66   \n",
       "\n",
       "       quantity  \n",
       "0          30.0  \n",
       "1         265.0  \n",
       "2          29.0  \n",
       "3         110.0  \n",
       "4           1.0  \n",
       "...         ...  \n",
       "25974      20.0  \n",
       "25975    2700.0  \n",
       "25976       1.0  \n",
       "25977       1.0  \n",
       "25978       9.0  \n",
       "\n",
       "[25979 rows x 6 columns]"
      ]
     },
     "execution_count": 3,
     "metadata": {},
     "output_type": "execute_result"
    }
   ],
   "source": [
    "df"
   ]
  },
  {
   "cell_type": "markdown",
   "metadata": {},
   "source": [
    "## 1. Cleaning ##"
   ]
  },
  {
   "cell_type": "markdown",
   "metadata": {},
   "source": [
    "- Cleaning VAT column. The one will use to merge with the companies enriched dataset"
   ]
  },
  {
   "cell_type": "code",
   "execution_count": 4,
   "metadata": {},
   "outputs": [],
   "source": [
    "df['vat'] = df['vat'].str.replace('ES','')\n",
    "df['vat'] = df['vat'].str.strip()"
   ]
  },
  {
   "cell_type": "markdown",
   "metadata": {},
   "source": [
    "- Cleaning name.1 column. The one will use to merge with the categorized sku dataset"
   ]
  },
  {
   "cell_type": "code",
   "execution_count": 5,
   "metadata": {},
   "outputs": [],
   "source": [
    "df['name.1'] = df['name.1'].str.strip()\n",
    "df['name.1'] = df['name.1'].str.replace('PO:','')"
   ]
  },
  {
   "cell_type": "markdown",
   "metadata": {},
   "source": [
    "- creating a 'sku' column"
   ]
  },
  {
   "cell_type": "code",
   "execution_count": 6,
   "metadata": {},
   "outputs": [],
   "source": [
    "df['sku'] = df['name.1'].str.extract('\\[(.+)\\]', expand=True)"
   ]
  },
  {
   "cell_type": "markdown",
   "metadata": {},
   "source": [
    "- Recounting number of null values in new 'sku' column"
   ]
  },
  {
   "cell_type": "code",
   "execution_count": 7,
   "metadata": {},
   "outputs": [
    {
     "data": {
      "text/plain": [
       "SERVICIOS DE REPARACION                                       267\n",
       "DS9208-SR KIT USB EMEA U21                                    223\n",
       "SUMINISTROS VARIOS                                            152\n",
       "Shipping and Handling                                         138\n",
       "VOYAGER 9520 USB BLACK KIT MASKED STAND + HARD MOUNT          116\n",
       "                                                             ... \n",
       "O  3800G PDF IMAGER SCANNER IVORY + COILED KBW + QSG            1\n",
       "I4310e TT EU/UK 300DPI 3HUB AU TO DETECT DPL,PLZ & PLI          1\n",
       "RESTAURANTE JOSE LUIS                                           1\n",
       "SKORPIO X3 WIFI A/B/G BT 1D LS R 28KEY 256/512 WE6,5 GSPOT      1\n",
       "HESPEDERIA MADRID                                               1\n",
       "Name: name.1, Length: 2802, dtype: int64"
      ]
     },
     "execution_count": 7,
     "metadata": {},
     "output_type": "execute_result"
    }
   ],
   "source": [
    "df[df['sku'].isnull()]['name.1'].value_counts()"
   ]
  },
  {
   "cell_type": "markdown",
   "metadata": {},
   "source": [
    "Reindexing neede to do a loop for"
   ]
  },
  {
   "cell_type": "markdown",
   "metadata": {},
   "source": [
    "- Manually assigning 'sku' values to top seller products with incorrect \"name.1\" codification"
   ]
  },
  {
   "cell_type": "code",
   "execution_count": 8,
   "metadata": {},
   "outputs": [],
   "source": [
    "for i in range(len(df)):\n",
    "    if df.loc[i,'name.1'] == 'DS9208-SR KIT USB EMEA U21':\n",
    "        df.loc[i,'sku'] = 'DS9208-SR4NNU21Z'\n",
    "    elif df.loc[i,'name.1'] == 'VOYAGER 9520 USB BLACK KIT MASKED STAND + HARD MOUNT':\n",
    "        df.loc[i,'sku'] = 'MK9520-32A38'\n",
    "    elif df.loc[i,'name.1'] == 'GK420D DT 203DPI USB SER PARAL LEL R2.0':\n",
    "        df.loc[i,'sku'] = 'GK42-200120-000'\n",
    "    elif df.loc[i,'name.1'] == 'VOYAGER MS9520 KIT USB BLACK MASKED STAND + HARD MOUNT':\n",
    "        df.loc[i,'sku'] = 'MK9520-32A38'\n",
    "    elif df.loc[i,'name.1'] == 'CN3 WIFI BTH  2D IMGR NUM 128/256 WM6,1':\n",
    "        df.loc[i,'sku'] = 'CN3BNH80000E400'\n",
    "    elif df.loc[i,'name.1'] == 'GK420T TT 203DPI USB SER PARAL LEL R2.0':\n",
    "        df.loc[i,'sku'] = 'GK42-100120-000'\n",
    "    elif df.loc[i,'name.1'] == 'SERVICIOS DE REPARACION':\n",
    "        df.loc[i,'sku'] = 'Repair'\n",
    "    elif df.loc[i,'name.1'] == 'LS2208 KIT USB BLACK STAND N':\n",
    "        df.loc[i,'sku'] = 'LS2208-7AZU0100S'\n",
    "    elif df.loc[i,'name.1'] == 'Shipping and Handling':\n",
    "        df.loc[i,'sku'] = 'Shipping and Handling'\n",
    "    elif df.loc[i,'name.1'] == 'ECLIPSE 5145 USB BLACK KIT NO STAND CG CANNOT BE DEACTIVA':\n",
    "        df.loc[i,'sku'] = 'MK5145-71A38-EU'\n",
    "    elif df.loc[i,'name.1'] == 'CABLE POWER   2M EU     TO IEC':\n",
    "        df.loc[i,'sku'] = 'AK5015'\n",
    "    elif df.loc[i,'name.1'] == 'VOYAGER 1200G BLACK USB KIT RIGID STAND / TYPE-A USB CABLE':\n",
    "        df.loc[i,'sku'] = '1200g-2USB-1F02'\n",
    "    elif df.loc[i,'name.1'] == 'VOYAGER-GS 1250G BLACK SCANNER':\n",
    "        df.loc[i,'sku'] = '1250G-2KBW-1'\n",
    "    elif df.loc[i,'name.1'] == 'SUMINISTROS VARIOS':\n",
    "        df.loc[i,'sku'] = 'unknown'\n",
    "    elif df.loc[i,'name.1'] == 'MISCELLANEOUS':\n",
    "        df.loc[i,'sku'] = 'unknown'\n",
    "    elif df.loc[i,'name.1'] == 'QUANTUM-E IS3480 RS232 EU KIT EU PSU + POWERLINK CABLE':\n",
    "        df.loc[i,'sku'] = 'MK3480-30B41'\n",
    "    elif df.loc[i,'name.1'] == 'RBN IX SERIES YMCKO  ZXP3':\n",
    "        df.loc[i,'sku'] = '800033-344'\n",
    "    elif df.loc[i,'name.1'] == 'QUICKSCAN MOBILE M2130 BLK KIT 433 MHZ USB W/BASE-CBL':\n",
    "        df.loc[i,'sku'] = 'QD2130-BKK11S'\n",
    "    elif df.loc[i,'name.1'] == 'MC75A6 HSDPA, 802.11a/b/g, 1D Cam Numeric WM6':\n",
    "        df.loc[i,'sku'] = 'MC75A6-P0CSWQRA9WR'"
   ]
  },
  {
   "cell_type": "markdown",
   "metadata": {},
   "source": [
    "- References not classified yet"
   ]
  },
  {
   "cell_type": "code",
   "execution_count": 9,
   "metadata": {},
   "outputs": [
    {
     "data": {
      "text/plain": [
       "KIT CRD PVC BLANK 30MIL 500C/B                                65\n",
       "CRD SGL SLOT KIT ES INTL                                      53\n",
       "CS 3070 BATCH/BT USB  1D LZR LSR 512M F/EMEA+APAC+LA          49\n",
       "RIB 2300WAX 110MMX74M 12R/B                                   45\n",
       "PRODUCTOS VARIOS                                              41\n",
       "                                                              ..\n",
       "FOCUS MS1690 KBW KIT,EU PSU COILED CBL,STND RANGE,GRY SCNR     1\n",
       "IMPRESORA TÉRMICA TICKETS PR-GP80 USB, ETHERNET                1\n",
       "SERVICIOS DE REPARACION IVECO                                  1\n",
       "PRINTHD 203DPI T4M/SL4M                                        1\n",
       "MX8 QUALITY PASS 3 YEARS FROM NEW                              1\n",
       "Name: name.1, Length: 2783, dtype: int64"
      ]
     },
     "execution_count": 9,
     "metadata": {},
     "output_type": "execute_result"
    }
   ],
   "source": [
    "df[df['sku'].isnull()]['name.1'].value_counts()"
   ]
  },
  {
   "cell_type": "markdown",
   "metadata": {},
   "source": [
    "- For 'sku' affected by the expanded column that are not readable, change them to common category"
   ]
  },
  {
   "cell_type": "code",
   "execution_count": 10,
   "metadata": {},
   "outputs": [],
   "source": [
    "for i in range(len(df)):\n",
    "    if df.loc[i,'sku'] == 'SHIP':\n",
    "        df.loc[i,'sku'] = 'Shipping and Handling'\n",
    "    if df.loc[i,'sku'] == 'TR.EXPRESS':\n",
    "        df.loc[i,'sku'] = 'Shipping and Handling'\n",
    "    if df.loc[i,'sku'] == 'SSREP':\n",
    "        df.loc[i,'sku'] = 'Repair'\n",
    "    if df.loc[i,'sku'] == 'DIF-PREC':\n",
    "        df.loc[i,'sku'] = 'Price-offer'\n",
    "    if df.loc[i,'sku'] == 'DISCOUNT.PP':\n",
    "        df.loc[i,'sku'] = 'Price-offer'\n",
    "    if df.loc[i,'sku'] == 'DESC.PP':\n",
    "        df.loc[i,'sku'] = 'Price-offer'\n",
    "    if df.loc[i,'sku'] == 'EUR-MISC':\n",
    "        df.loc[i,'sku'] = 'unknown'"
   ]
  },
  {
   "cell_type": "code",
   "execution_count": 11,
   "metadata": {},
   "outputs": [
    {
     "data": {
      "text/plain": [
       "Shipping and Handling    5575\n",
       "Repair                    596\n",
       "unknown                   304\n",
       "DS9208-SR4NNU21Z          224\n",
       "MK9520-37A38              221\n",
       "                         ... \n",
       "800015-240                  1\n",
       "45-45619                    1\n",
       "OB13112010091102            1\n",
       "238-000-001                 1\n",
       "GP-021-G50007-000           1\n",
       "Name: sku, Length: 2527, dtype: int64"
      ]
     },
     "execution_count": 11,
     "metadata": {},
     "output_type": "execute_result"
    }
   ],
   "source": [
    "df['sku'].value_counts()"
   ]
  },
  {
   "cell_type": "code",
   "execution_count": 244,
   "metadata": {},
   "outputs": [
    {
     "data": {
      "text/html": [
       "<div>\n",
       "<style scoped>\n",
       "    .dataframe tbody tr th:only-of-type {\n",
       "        vertical-align: middle;\n",
       "    }\n",
       "\n",
       "    .dataframe tbody tr th {\n",
       "        vertical-align: top;\n",
       "    }\n",
       "\n",
       "    .dataframe thead th {\n",
       "        text-align: right;\n",
       "    }\n",
       "</style>\n",
       "<table border=\"1\" class=\"dataframe\">\n",
       "  <thead>\n",
       "    <tr style=\"text-align: right;\">\n",
       "      <th></th>\n",
       "      <th>id</th>\n",
       "      <th>name</th>\n",
       "      <th>vat</th>\n",
       "      <th>name.1</th>\n",
       "      <th>price_subtotal</th>\n",
       "      <th>quantity</th>\n",
       "      <th>sku</th>\n",
       "    </tr>\n",
       "  </thead>\n",
       "  <tbody>\n",
       "    <tr>\n",
       "      <th>0</th>\n",
       "      <td>47053</td>\n",
       "      <td>W3CAN INFORMATICA S.L.</td>\n",
       "      <td>B76645456</td>\n",
       "      <td>[MC75A6-PYCSWQRA9WR] MC75A6 HSDPA WLAN 1D Came...</td>\n",
       "      <td>46152.33</td>\n",
       "      <td>30.0</td>\n",
       "      <td>MC75A6-PYCSWQRA9WR</td>\n",
       "    </tr>\n",
       "    <tr>\n",
       "      <th>1</th>\n",
       "      <td>32415</td>\n",
       "      <td>.</td>\n",
       "      <td>A48010615</td>\n",
       "      <td>[DS9808-KITSERIE] DS9808 SR LECTOR KIT SERIE</td>\n",
       "      <td>43195.00</td>\n",
       "      <td>265.0</td>\n",
       "      <td>DS9808-KITSERIE</td>\n",
       "    </tr>\n",
       "    <tr>\n",
       "      <th>2</th>\n",
       "      <td>36952</td>\n",
       "      <td>CONTABILIDAD</td>\n",
       "      <td>B85991941</td>\n",
       "      <td>[MC75A6-PYCSWRRA9WR] MC75A6 HSDPA, 802.11a/b/g...</td>\n",
       "      <td>31612.15</td>\n",
       "      <td>29.0</td>\n",
       "      <td>MC75A6-PYCSWRRA9WR</td>\n",
       "    </tr>\n",
       "    <tr>\n",
       "      <th>3</th>\n",
       "      <td>3371</td>\n",
       "      <td>INTERFLEX S.L.</td>\n",
       "      <td>B08213621</td>\n",
       "      <td>[CN3-BRZDC3] CN3A/B BRONZE 3 DAYS RTB 3 YEA IN...</td>\n",
       "      <td>30092.70</td>\n",
       "      <td>110.0</td>\n",
       "      <td>CN3-BRZDC3</td>\n",
       "    </tr>\n",
       "    <tr>\n",
       "      <th>4</th>\n",
       "      <td>10894</td>\n",
       "      <td>FERROVIAL, S.A</td>\n",
       "      <td>A81939209</td>\n",
       "      <td>[MC75A6-PYCSWRRA9WR] MC75A6 HSDPA, 802.11a/b/g...</td>\n",
       "      <td>29424.03</td>\n",
       "      <td>1.0</td>\n",
       "      <td>MC75A6-PYCSWRRA9WR</td>\n",
       "    </tr>\n",
       "  </tbody>\n",
       "</table>\n",
       "</div>"
      ],
      "text/plain": [
       "      id                    name        vat  \\\n",
       "0  47053  W3CAN INFORMATICA S.L.  B76645456   \n",
       "1  32415                       .  A48010615   \n",
       "2  36952           CONTABILIDAD   B85991941   \n",
       "3   3371          INTERFLEX S.L.  B08213621   \n",
       "4  10894          FERROVIAL, S.A  A81939209   \n",
       "\n",
       "                                              name.1  price_subtotal  \\\n",
       "0  [MC75A6-PYCSWQRA9WR] MC75A6 HSDPA WLAN 1D Came...        46152.33   \n",
       "1       [DS9808-KITSERIE] DS9808 SR LECTOR KIT SERIE        43195.00   \n",
       "2  [MC75A6-PYCSWRRA9WR] MC75A6 HSDPA, 802.11a/b/g...        31612.15   \n",
       "3  [CN3-BRZDC3] CN3A/B BRONZE 3 DAYS RTB 3 YEA IN...        30092.70   \n",
       "4  [MC75A6-PYCSWRRA9WR] MC75A6 HSDPA, 802.11a/b/g...        29424.03   \n",
       "\n",
       "   quantity                 sku  \n",
       "0      30.0  MC75A6-PYCSWQRA9WR  \n",
       "1     265.0     DS9808-KITSERIE  \n",
       "2      29.0  MC75A6-PYCSWRRA9WR  \n",
       "3     110.0          CN3-BRZDC3  \n",
       "4       1.0  MC75A6-PYCSWRRA9WR  "
      ]
     },
     "execution_count": 244,
     "metadata": {},
     "output_type": "execute_result"
    }
   ],
   "source": [
    "df.head()"
   ]
  },
  {
   "cell_type": "markdown",
   "metadata": {},
   "source": [
    "Deleting columns that are not needed"
   ]
  },
  {
   "cell_type": "code",
   "execution_count": 12,
   "metadata": {},
   "outputs": [],
   "source": [
    "df.drop(columns=['name','name.1'], inplace = True)"
   ]
  },
  {
   "cell_type": "code",
   "execution_count": 13,
   "metadata": {},
   "outputs": [
    {
     "data": {
      "text/html": [
       "<div>\n",
       "<style scoped>\n",
       "    .dataframe tbody tr th:only-of-type {\n",
       "        vertical-align: middle;\n",
       "    }\n",
       "\n",
       "    .dataframe tbody tr th {\n",
       "        vertical-align: top;\n",
       "    }\n",
       "\n",
       "    .dataframe thead th {\n",
       "        text-align: right;\n",
       "    }\n",
       "</style>\n",
       "<table border=\"1\" class=\"dataframe\">\n",
       "  <thead>\n",
       "    <tr style=\"text-align: right;\">\n",
       "      <th></th>\n",
       "      <th>id</th>\n",
       "      <th>vat</th>\n",
       "      <th>price_subtotal</th>\n",
       "      <th>quantity</th>\n",
       "      <th>sku</th>\n",
       "    </tr>\n",
       "  </thead>\n",
       "  <tbody>\n",
       "    <tr>\n",
       "      <th>0</th>\n",
       "      <td>47053</td>\n",
       "      <td>B76645456</td>\n",
       "      <td>46152.33</td>\n",
       "      <td>30.0</td>\n",
       "      <td>MC75A6-PYCSWQRA9WR</td>\n",
       "    </tr>\n",
       "    <tr>\n",
       "      <th>1</th>\n",
       "      <td>32415</td>\n",
       "      <td>A48010615</td>\n",
       "      <td>43195.00</td>\n",
       "      <td>265.0</td>\n",
       "      <td>DS9808-KITSERIE</td>\n",
       "    </tr>\n",
       "    <tr>\n",
       "      <th>2</th>\n",
       "      <td>36952</td>\n",
       "      <td>B85991941</td>\n",
       "      <td>31612.15</td>\n",
       "      <td>29.0</td>\n",
       "      <td>MC75A6-PYCSWRRA9WR</td>\n",
       "    </tr>\n",
       "    <tr>\n",
       "      <th>3</th>\n",
       "      <td>3371</td>\n",
       "      <td>B08213621</td>\n",
       "      <td>30092.70</td>\n",
       "      <td>110.0</td>\n",
       "      <td>CN3-BRZDC3</td>\n",
       "    </tr>\n",
       "    <tr>\n",
       "      <th>4</th>\n",
       "      <td>10894</td>\n",
       "      <td>A81939209</td>\n",
       "      <td>29424.03</td>\n",
       "      <td>1.0</td>\n",
       "      <td>MC75A6-PYCSWRRA9WR</td>\n",
       "    </tr>\n",
       "  </tbody>\n",
       "</table>\n",
       "</div>"
      ],
      "text/plain": [
       "      id        vat  price_subtotal  quantity                 sku\n",
       "0  47053  B76645456        46152.33      30.0  MC75A6-PYCSWQRA9WR\n",
       "1  32415  A48010615        43195.00     265.0     DS9808-KITSERIE\n",
       "2  36952  B85991941        31612.15      29.0  MC75A6-PYCSWRRA9WR\n",
       "3   3371  B08213621        30092.70     110.0          CN3-BRZDC3\n",
       "4  10894  A81939209        29424.03       1.0  MC75A6-PYCSWRRA9WR"
      ]
     },
     "execution_count": 13,
     "metadata": {},
     "output_type": "execute_result"
    }
   ],
   "source": [
    "df.head()"
   ]
  },
  {
   "cell_type": "markdown",
   "metadata": {},
   "source": [
    "# Exporting df to a csv on a .gitignore folder #\n",
    "(because it has client personal details)"
   ]
  },
  {
   "cell_type": "code",
   "execution_count": 14,
   "metadata": {},
   "outputs": [],
   "source": [
    "df.to_csv('../final_data/processed/sales_clean.csv', index = False)"
   ]
  },
  {
   "cell_type": "code",
   "execution_count": null,
   "metadata": {},
   "outputs": [],
   "source": []
  }
 ],
 "metadata": {
  "kernelspec": {
   "display_name": "Python [conda env:project_env]",
   "language": "python",
   "name": "conda-env-project_env-py"
  },
  "language_info": {
   "codemirror_mode": {
    "name": "ipython",
    "version": 3
   },
   "file_extension": ".py",
   "mimetype": "text/x-python",
   "name": "python",
   "nbconvert_exporter": "python",
   "pygments_lexer": "ipython3",
   "version": "3.7.5"
  }
 },
 "nbformat": 4,
 "nbformat_minor": 4
}
