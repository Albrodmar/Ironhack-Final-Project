{
 "cells": [
  {
   "cell_type": "markdown",
   "metadata": {},
   "source": [
    "<font color='red'>Important NOTE: Fake Useragent Library do not work on versions superior of Python 3.6 </font>"
   ]
  },
  {
   "cell_type": "markdown",
   "metadata": {},
   "source": [
    "# We will take all our client database and throught web-scrapping will find out their business activity."
   ]
  },
  {
   "cell_type": "markdown",
   "metadata": {},
   "source": [
    "Using Selenium and scrapping einforma.com"
   ]
  },
  {
   "cell_type": "code",
   "execution_count": 1,
   "metadata": {},
   "outputs": [],
   "source": [
    "import pandas as pd\n",
    "import numpy as np"
   ]
  },
  {
   "cell_type": "markdown",
   "metadata": {},
   "source": [
    "First need to define the concrete vat numbers that need to be scrapped. Will use our merged_clean.csv file and take unique vat numbers"
   ]
  },
  {
   "cell_type": "code",
   "execution_count": 2,
   "metadata": {},
   "outputs": [],
   "source": [
    "df = pd.read_csv('../data2/processed/merged_clean.csv', index_col=0)"
   ]
  },
  {
   "cell_type": "code",
   "execution_count": 3,
   "metadata": {},
   "outputs": [
    {
     "data": {
      "text/html": [
       "<div>\n",
       "<style scoped>\n",
       "    .dataframe tbody tr th:only-of-type {\n",
       "        vertical-align: middle;\n",
       "    }\n",
       "\n",
       "    .dataframe tbody tr th {\n",
       "        vertical-align: top;\n",
       "    }\n",
       "\n",
       "    .dataframe thead th {\n",
       "        text-align: right;\n",
       "    }\n",
       "</style>\n",
       "<table border=\"1\" class=\"dataframe\">\n",
       "  <thead>\n",
       "    <tr style=\"text-align: right;\">\n",
       "      <th></th>\n",
       "      <th>id</th>\n",
       "      <th>vat</th>\n",
       "      <th>category</th>\n",
       "      <th>value</th>\n",
       "      <th>quantity</th>\n",
       "    </tr>\n",
       "  </thead>\n",
       "  <tbody>\n",
       "    <tr>\n",
       "      <th>0</th>\n",
       "      <td>125</td>\n",
       "      <td>A28415495</td>\n",
       "      <td>Label Printer</td>\n",
       "      <td>239.0</td>\n",
       "      <td>1.0</td>\n",
       "    </tr>\n",
       "    <tr>\n",
       "      <th>1</th>\n",
       "      <td>139</td>\n",
       "      <td>B12026183</td>\n",
       "      <td>Accessories</td>\n",
       "      <td>43.8</td>\n",
       "      <td>1.0</td>\n",
       "    </tr>\n",
       "  </tbody>\n",
       "</table>\n",
       "</div>"
      ],
      "text/plain": [
       "    id        vat       category  value  quantity\n",
       "0  125  A28415495  Label Printer  239.0       1.0\n",
       "1  139  B12026183    Accessories   43.8       1.0"
      ]
     },
     "execution_count": 3,
     "metadata": {},
     "output_type": "execute_result"
    }
   ],
   "source": [
    "df.head(2)"
   ]
  },
  {
   "cell_type": "code",
   "execution_count": null,
   "metadata": {},
   "outputs": [],
   "source": [
    "cifs = df['vat']\n",
    "cifs = cifs.reset_index()"
   ]
  },
  {
   "cell_type": "markdown",
   "metadata": {},
   "source": [
    "# Importing libraries needed for the webscrapping"
   ]
  },
  {
   "cell_type": "code",
   "execution_count": null,
   "metadata": {},
   "outputs": [],
   "source": [
    "import selenium\n",
    "from selenium import webdriver\n",
    "import time\n",
    "from selenium.webdriver.chrome.options import Options\n",
    "#Importing the library that not works on superior version of Python 3.6\n",
    "from fake_useragent import UserAgent"
   ]
  },
  {
   "cell_type": "code",
   "execution_count": null,
   "metadata": {},
   "outputs": [],
   "source": [
    "def einforma_scrap(df):\n",
    "    \n",
    "    URL = 'https://www.einforma.com/servlet/app/prod/ETIQUETA_EMPRESA/nif/'\n",
    "    \n",
    "    #Create new columns to score info get from the scrapping\n",
    "    df['Localidad'] = np.nan\n",
    "    df['Actividad Informa'] = np.nan\n",
    "    df['Objeto Social'] = np.nan\n",
    "    df['Forma Juridica'] = np.nan\n",
    "    df['CNAE'] = np.nan\n",
    "    \n",
    "    #Chrome User Agent\n",
    "    options = Options()\n",
    "    options.add_argument(\"window-size=800,800\")\n",
    "\n",
    "    ua = UserAgent()\n",
    "    a = ua.random\n",
    "    user_agent = ua.random\n",
    "    print(user_agent)\n",
    "    options.add_argument(f'user-agent={user_agent}')\n",
    "    driver = webdriver.Chrome(options=options)\n",
    "    \n",
    "    total_cif = 0\n",
    "    total_localidad = 0\n",
    "    total_actividad = 0\n",
    "    total_objeto = 0\n",
    "    total_forma = 0\n",
    "    bucle = 0\n",
    "    no_disponible = 0\n",
    "    reinicio = 0\n",
    "\n",
    "\n",
    "    for i in range(len(df)):\n",
    "        bucle += 1\n",
    "        #print(f'bucle: {bucle}')\n",
    "        driver.get(URL+ df.iloc[i]['vat'])\n",
    "        time.sleep(0)\n",
    "        try:\n",
    "            driver.find_element_by_xpath('//*[@id=\"content\"]/div/div[1]/p').text == 'Servicio No Disponible'\n",
    "            reinicio += 1\n",
    "            \n",
    "            ua = UserAgent()\n",
    "            a = ua.random\n",
    "            options = Options()\n",
    "            options.add_argument(\"window-size=800,800\")\n",
    "            user_agent = ua.random\n",
    "            print(user_agent)\n",
    "            options.add_argument(f'user-agent={user_agent}')\n",
    "            driver = webdriver.Chrome(options=options)\n",
    "            time.sleep(0.3)\n",
    "            driver.get(URL+ df.iloc[i]['vat'])\n",
    "            try:\n",
    "                tabla = driver.find_element_by_class_name('ficha-empresa').text\n",
    "                tabla = tabla.split('\\n')\n",
    "                for s in range(len(tabla)):\n",
    "                    tabla[s] = tabla[s].split(':')\n",
    "\n",
    "                for f in range(len(tabla)):\n",
    "                     if tabla[f][0] == 'CNAE 2009':\n",
    "                        df.loc[i,'CNAE'] = (tabla[f][1])\n",
    "                        total_cif +=1\n",
    "                        #print(f'total cif = {total_cif}')\n",
    "\n",
    "                for f in range(len(tabla)):\n",
    "                     if tabla[f][0] == 'Localidad':\n",
    "                        df.loc[i,'Localidad'] = (tabla[f][1])\n",
    "                        total_localidad +=1\n",
    "                        #print(f'total loc = {total_localidad}')\n",
    "\n",
    "                for f in range(len(tabla)):\n",
    "                     if tabla[f][0] == 'Actividad Informa':\n",
    "                        df.loc[i,'Actividad Informa'] = (tabla[f][1])\n",
    "                        total_actividad +=1\n",
    "                        #print(f'total act = {total_actividad}')\n",
    "\n",
    "                for f in range(len(tabla)):\n",
    "                     if tabla[f][0] == 'Objeto Social':\n",
    "                        df.loc[i,'Objeto Social'] = (tabla[f][1])\n",
    "                        total_objeto +=1\n",
    "                        #print(f'total obj = {total_objeto}')                   \n",
    "\n",
    "                for f in range(len(tabla)):\n",
    "                     if tabla[f][0] == 'Forma Jurídica':\n",
    "                        df.loc[i,'Forma Juridica'] = (tabla[f][1])\n",
    "                        total_forma +=1\n",
    "                        #print(f'total form = {total_forma}')  \n",
    "\n",
    "            except:\n",
    "                no_disponible += 1\n",
    "                #print(f'Cuenta no encontrado: {no_disponible}')\n",
    "                pass\n",
    "\n",
    "        except:\n",
    "\n",
    "            try:\n",
    "                tabla = driver.find_element_by_class_name('ficha-empresa').text\n",
    "                tabla = tabla.split('\\n')\n",
    "                for s in range(len(tabla)):\n",
    "                    tabla[s] = tabla[s].split(':')\n",
    "\n",
    "                for f in range(len(tabla)):\n",
    "                     if tabla[f][0] == 'CNAE 2009':\n",
    "                        df.loc[i,'CNAE'] = (tabla[f][1])\n",
    "                        total_cif +=1\n",
    "                        #print(f'total cif = {total_cif}')\n",
    "\n",
    "                for f in range(len(tabla)):\n",
    "                     if tabla[f][0] == 'Localidad':\n",
    "                        df.loc[i,'Localidad'] = (tabla[f][1])\n",
    "                        total_localidad +=1\n",
    "                        #print(f'total loc = {total_localidad}')\n",
    "\n",
    "                for f in range(len(tabla)):\n",
    "                     if tabla[f][0] == 'Actividad Informa':\n",
    "                        df.loc[i,'Actividad Informa'] = (tabla[f][1])\n",
    "                        total_actividad +=1\n",
    "                        #print(f'total act = {total_actividad}')\n",
    "\n",
    "                for f in range(len(tabla)):\n",
    "                     if tabla[f][0] == 'Objeto Social':\n",
    "                        df.loc[i,'Objeto Social'] = (tabla[f][1])\n",
    "                        total_objeto +=1\n",
    "                        #print(f'total obj = {total_objeto}')                   \n",
    "\n",
    "                for f in range(len(tabla)):\n",
    "                     if tabla[f][0] == 'Forma Jurídica':\n",
    "                        df.loc[i,'Forma Juridica'] = (tabla[f][1])\n",
    "                        total_forma +=1\n",
    "                        #print(f'total form = {total_forma}')  \n",
    "\n",
    "            except:\n",
    "                no_disponible += 1\n",
    "                #print(f'Cuenta no encontrado: {no_disponible}')\n",
    "                pass\n",
    "    \n",
    "    "
   ]
  },
  {
   "cell_type": "code",
   "execution_count": null,
   "metadata": {},
   "outputs": [],
   "source": [
    "einforma_scrap(cifs)"
   ]
  },
  {
   "cell_type": "code",
   "execution_count": null,
   "metadata": {},
   "outputs": [],
   "source": [
    "cifs.to_csv('../data2/processed/final_cifs_enrich.csv')"
   ]
  },
  {
   "cell_type": "code",
   "execution_count": null,
   "metadata": {},
   "outputs": [],
   "source": []
  }
 ],
 "metadata": {
  "kernelspec": {
   "display_name": "Python [conda env:python3.6_env]",
   "language": "python",
   "name": "conda-env-python3.6_env-py"
  },
  "language_info": {
   "codemirror_mode": {
    "name": "ipython",
    "version": 3
   },
   "file_extension": ".py",
   "mimetype": "text/x-python",
   "name": "python",
   "nbconvert_exporter": "python",
   "pygments_lexer": "ipython3",
   "version": "3.6.10"
  }
 },
 "nbformat": 4,
 "nbformat_minor": 4
}
