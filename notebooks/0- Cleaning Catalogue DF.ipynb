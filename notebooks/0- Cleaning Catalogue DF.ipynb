{
 "cells": [
  {
   "cell_type": "markdown",
   "metadata": {},
   "source": [
    "# Processing the exported dataframe from Magento database#\n",
    "     With details of the products and their category associated\n",
    "       "
   ]
  },
  {
   "cell_type": "markdown",
   "metadata": {},
   "source": [
    "Both dataframes are in a folder register into .gitignore"
   ]
  },
  {
   "cell_type": "code",
   "execution_count": 12,
   "metadata": {},
   "outputs": [],
   "source": [
    "import pandas as pd"
   ]
  },
  {
   "cell_type": "code",
   "execution_count": 13,
   "metadata": {},
   "outputs": [],
   "source": [
    "df = pd.read_csv('../data2/raw/logiscenter_com.csv',delimiter=';',low_memory=False)"
   ]
  },
  {
   "cell_type": "code",
   "execution_count": 14,
   "metadata": {},
   "outputs": [
    {
     "data": {
      "text/html": [
       "<div>\n",
       "<style scoped>\n",
       "    .dataframe tbody tr th:only-of-type {\n",
       "        vertical-align: middle;\n",
       "    }\n",
       "\n",
       "    .dataframe tbody tr th {\n",
       "        vertical-align: top;\n",
       "    }\n",
       "\n",
       "    .dataframe thead th {\n",
       "        text-align: right;\n",
       "    }\n",
       "</style>\n",
       "<table border=\"1\" class=\"dataframe\">\n",
       "  <thead>\n",
       "    <tr style=\"text-align: right;\">\n",
       "      <th></th>\n",
       "      <th>entity_id</th>\n",
       "      <th>sku</th>\n",
       "      <th>manufacturer</th>\n",
       "      <th>modelo</th>\n",
       "      <th>variant</th>\n",
       "      <th>descatalogado</th>\n",
       "      <th>attribute_set</th>\n",
       "      <th>category_ids</th>\n",
       "      <th>category_names*</th>\n",
       "    </tr>\n",
       "  </thead>\n",
       "  <tbody>\n",
       "    <tr>\n",
       "      <th>0</th>\n",
       "      <td>293</td>\n",
       "      <td>MOD-110PAX4</td>\n",
       "      <td>Zebra</td>\n",
       "      <td>Zebra 110PAX4</td>\n",
       "      <td>model</td>\n",
       "      <td>1.0</td>\n",
       "      <td>Label Printer</td>\n",
       "      <td>458</td>\n",
       "      <td>Obsoleto - Descatalogado</td>\n",
       "    </tr>\n",
       "    <tr>\n",
       "      <th>1</th>\n",
       "      <td>294</td>\n",
       "      <td>MOD-110XiIII</td>\n",
       "      <td>Zebra</td>\n",
       "      <td>Zebra 110XIIII</td>\n",
       "      <td>model</td>\n",
       "      <td>1.0</td>\n",
       "      <td>Label Printer</td>\n",
       "      <td>120,458</td>\n",
       "      <td>Zebra Technologies,Obsoleto - Descatalogado</td>\n",
       "    </tr>\n",
       "    <tr>\n",
       "      <th>2</th>\n",
       "      <td>295</td>\n",
       "      <td>MOD-140XiIII</td>\n",
       "      <td>Zebra</td>\n",
       "      <td>Zebra 140XIIII</td>\n",
       "      <td>model</td>\n",
       "      <td>1.0</td>\n",
       "      <td>Label Printer</td>\n",
       "      <td>120,458</td>\n",
       "      <td>Zebra Technologies,Obsoleto - Descatalogado</td>\n",
       "    </tr>\n",
       "    <tr>\n",
       "      <th>3</th>\n",
       "      <td>296</td>\n",
       "      <td>MOD-170PAX4</td>\n",
       "      <td>Zebra</td>\n",
       "      <td>Zebra 170PAX4</td>\n",
       "      <td>model</td>\n",
       "      <td>1.0</td>\n",
       "      <td>Label Printer</td>\n",
       "      <td>458</td>\n",
       "      <td>Obsoleto - Descatalogado</td>\n",
       "    </tr>\n",
       "    <tr>\n",
       "      <th>4</th>\n",
       "      <td>297</td>\n",
       "      <td>MOD-170XiIII</td>\n",
       "      <td>Zebra</td>\n",
       "      <td>Zebra 170XIIII</td>\n",
       "      <td>model</td>\n",
       "      <td>1.0</td>\n",
       "      <td>Label Printer</td>\n",
       "      <td>120,458</td>\n",
       "      <td>Zebra Technologies,Obsoleto - Descatalogado</td>\n",
       "    </tr>\n",
       "  </tbody>\n",
       "</table>\n",
       "</div>"
      ],
      "text/plain": [
       "   entity_id           sku manufacturer          modelo variant  \\\n",
       "0        293   MOD-110PAX4        Zebra   Zebra 110PAX4   model   \n",
       "1        294  MOD-110XiIII        Zebra  Zebra 110XIIII   model   \n",
       "2        295  MOD-140XiIII        Zebra  Zebra 140XIIII   model   \n",
       "3        296   MOD-170PAX4        Zebra   Zebra 170PAX4   model   \n",
       "4        297  MOD-170XiIII        Zebra  Zebra 170XIIII   model   \n",
       "\n",
       "   descatalogado  attribute_set category_ids  \\\n",
       "0            1.0  Label Printer          458   \n",
       "1            1.0  Label Printer      120,458   \n",
       "2            1.0  Label Printer      120,458   \n",
       "3            1.0  Label Printer          458   \n",
       "4            1.0  Label Printer      120,458   \n",
       "\n",
       "                               category_names*  \n",
       "0                     Obsoleto - Descatalogado  \n",
       "1  Zebra Technologies,Obsoleto - Descatalogado  \n",
       "2  Zebra Technologies,Obsoleto - Descatalogado  \n",
       "3                     Obsoleto - Descatalogado  \n",
       "4  Zebra Technologies,Obsoleto - Descatalogado  "
      ]
     },
     "execution_count": 14,
     "metadata": {},
     "output_type": "execute_result"
    }
   ],
   "source": [
    "df.head()"
   ]
  },
  {
   "cell_type": "code",
   "execution_count": 15,
   "metadata": {},
   "outputs": [
    {
     "data": {
      "text/plain": [
       "Accessories                101716\n",
       "Mobile Computing            10786\n",
       "Label Printer               10645\n",
       "Other                        6778\n",
       "Scanner                      5850\n",
       "Card Printer                 2843\n",
       "Ticket Printer               2001\n",
       "Touch Screen & Computer      1235\n",
       "Ribbon                        697\n",
       "RFID                          536\n",
       "Label                         285\n",
       "Printhead                     266\n",
       "Card Ribbon                   260\n",
       "Wristband                      67\n",
       "Card                           30\n",
       "Tickets                        22\n",
       "Supply                         20\n",
       "Name: attribute_set, dtype: int64"
      ]
     },
     "execution_count": 15,
     "metadata": {},
     "output_type": "execute_result"
    }
   ],
   "source": [
    "df['attribute_set'].value_counts()"
   ]
  },
  {
   "cell_type": "markdown",
   "metadata": {},
   "source": [
    "Dropping columns that are not needed"
   ]
  },
  {
   "cell_type": "code",
   "execution_count": 16,
   "metadata": {},
   "outputs": [],
   "source": [
    "df.drop(columns=['entity_id','modelo','manufacturer','descatalogado','variant','category_ids','category_names*'], inplace=True)"
   ]
  },
  {
   "cell_type": "code",
   "execution_count": 17,
   "metadata": {},
   "outputs": [
    {
     "data": {
      "text/html": [
       "<div>\n",
       "<style scoped>\n",
       "    .dataframe tbody tr th:only-of-type {\n",
       "        vertical-align: middle;\n",
       "    }\n",
       "\n",
       "    .dataframe tbody tr th {\n",
       "        vertical-align: top;\n",
       "    }\n",
       "\n",
       "    .dataframe thead th {\n",
       "        text-align: right;\n",
       "    }\n",
       "</style>\n",
       "<table border=\"1\" class=\"dataframe\">\n",
       "  <thead>\n",
       "    <tr style=\"text-align: right;\">\n",
       "      <th></th>\n",
       "      <th>sku</th>\n",
       "      <th>attribute_set</th>\n",
       "    </tr>\n",
       "  </thead>\n",
       "  <tbody>\n",
       "    <tr>\n",
       "      <th>0</th>\n",
       "      <td>MOD-110PAX4</td>\n",
       "      <td>Label Printer</td>\n",
       "    </tr>\n",
       "    <tr>\n",
       "      <th>1</th>\n",
       "      <td>MOD-110XiIII</td>\n",
       "      <td>Label Printer</td>\n",
       "    </tr>\n",
       "  </tbody>\n",
       "</table>\n",
       "</div>"
      ],
      "text/plain": [
       "            sku  attribute_set\n",
       "0   MOD-110PAX4  Label Printer\n",
       "1  MOD-110XiIII  Label Printer"
      ]
     },
     "execution_count": 17,
     "metadata": {},
     "output_type": "execute_result"
    }
   ],
   "source": [
    "df.head(2)"
   ]
  },
  {
   "cell_type": "markdown",
   "metadata": {},
   "source": [
    "# Exporting df to a csv on a .gitignore folder #\n",
    "(because it has businessl details)"
   ]
  },
  {
   "cell_type": "code",
   "execution_count": 18,
   "metadata": {},
   "outputs": [],
   "source": [
    "df.to_csv('../final_data/processed/catalogue_clean.csv', index = False)"
   ]
  },
  {
   "cell_type": "code",
   "execution_count": null,
   "metadata": {},
   "outputs": [],
   "source": []
  }
 ],
 "metadata": {
  "kernelspec": {
   "display_name": "Python [conda env:project_env]",
   "language": "python",
   "name": "conda-env-project_env-py"
  },
  "language_info": {
   "codemirror_mode": {
    "name": "ipython",
    "version": 3
   },
   "file_extension": ".py",
   "mimetype": "text/x-python",
   "name": "python",
   "nbconvert_exporter": "python",
   "pygments_lexer": "ipython3",
   "version": "3.7.5"
  }
 },
 "nbformat": 4,
 "nbformat_minor": 4
}
