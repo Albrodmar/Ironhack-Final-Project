{
 "cells": [
  {
   "cell_type": "markdown",
   "metadata": {},
   "source": [
    "# In order to categorized product we will merge two dataframes.#\n",
    "        1- df with catalogue exported from magento with sku and category\n",
    "        2- df with sales by sku and client"
   ]
  },
  {
   "cell_type": "markdown",
   "metadata": {},
   "source": [
    "Both dataframes are in a folder register into .gitignore"
   ]
  },
  {
   "cell_type": "code",
   "execution_count": 78,
   "metadata": {},
   "outputs": [],
   "source": [
    "import pandas as pd"
   ]
  },
  {
   "cell_type": "code",
   "execution_count": 79,
   "metadata": {},
   "outputs": [],
   "source": [
    "dfc = pd.read_csv('../data2/processed/catalogue_clean.csv')\n",
    "dfs = pd.read_csv('../data2/processed/sales_clean.csv')"
   ]
  },
  {
   "cell_type": "code",
   "execution_count": 80,
   "metadata": {},
   "outputs": [
    {
     "data": {
      "text/html": [
       "<div>\n",
       "<style scoped>\n",
       "    .dataframe tbody tr th:only-of-type {\n",
       "        vertical-align: middle;\n",
       "    }\n",
       "\n",
       "    .dataframe tbody tr th {\n",
       "        vertical-align: top;\n",
       "    }\n",
       "\n",
       "    .dataframe thead th {\n",
       "        text-align: right;\n",
       "    }\n",
       "</style>\n",
       "<table border=\"1\" class=\"dataframe\">\n",
       "  <thead>\n",
       "    <tr style=\"text-align: right;\">\n",
       "      <th></th>\n",
       "      <th>sku</th>\n",
       "      <th>attribute_set</th>\n",
       "    </tr>\n",
       "  </thead>\n",
       "  <tbody>\n",
       "    <tr>\n",
       "      <th>0</th>\n",
       "      <td>MOD-110PAX4</td>\n",
       "      <td>Label Printer</td>\n",
       "    </tr>\n",
       "    <tr>\n",
       "      <th>1</th>\n",
       "      <td>MOD-110XiIII</td>\n",
       "      <td>Label Printer</td>\n",
       "    </tr>\n",
       "  </tbody>\n",
       "</table>\n",
       "</div>"
      ],
      "text/plain": [
       "            sku  attribute_set\n",
       "0   MOD-110PAX4  Label Printer\n",
       "1  MOD-110XiIII  Label Printer"
      ]
     },
     "execution_count": 80,
     "metadata": {},
     "output_type": "execute_result"
    }
   ],
   "source": [
    "dfc.head(2)"
   ]
  },
  {
   "cell_type": "code",
   "execution_count": 81,
   "metadata": {},
   "outputs": [
    {
     "data": {
      "text/html": [
       "<div>\n",
       "<style scoped>\n",
       "    .dataframe tbody tr th:only-of-type {\n",
       "        vertical-align: middle;\n",
       "    }\n",
       "\n",
       "    .dataframe tbody tr th {\n",
       "        vertical-align: top;\n",
       "    }\n",
       "\n",
       "    .dataframe thead th {\n",
       "        text-align: right;\n",
       "    }\n",
       "</style>\n",
       "<table border=\"1\" class=\"dataframe\">\n",
       "  <thead>\n",
       "    <tr style=\"text-align: right;\">\n",
       "      <th></th>\n",
       "      <th>id</th>\n",
       "      <th>vat</th>\n",
       "      <th>price_subtotal</th>\n",
       "      <th>quantity</th>\n",
       "      <th>sku</th>\n",
       "    </tr>\n",
       "  </thead>\n",
       "  <tbody>\n",
       "    <tr>\n",
       "      <th>0</th>\n",
       "      <td>47053</td>\n",
       "      <td>B76645456</td>\n",
       "      <td>46152.33</td>\n",
       "      <td>30.0</td>\n",
       "      <td>MC75A6-PYCSWQRA9WR</td>\n",
       "    </tr>\n",
       "    <tr>\n",
       "      <th>1</th>\n",
       "      <td>32415</td>\n",
       "      <td>A48010615</td>\n",
       "      <td>43195.00</td>\n",
       "      <td>265.0</td>\n",
       "      <td>DS9808-KITSERIE</td>\n",
       "    </tr>\n",
       "  </tbody>\n",
       "</table>\n",
       "</div>"
      ],
      "text/plain": [
       "      id        vat  price_subtotal  quantity                 sku\n",
       "0  47053  B76645456        46152.33      30.0  MC75A6-PYCSWQRA9WR\n",
       "1  32415  A48010615        43195.00     265.0     DS9808-KITSERIE"
      ]
     },
     "execution_count": 81,
     "metadata": {},
     "output_type": "execute_result"
    }
   ],
   "source": [
    "dfs.head(2)"
   ]
  },
  {
   "cell_type": "markdown",
   "metadata": {},
   "source": [
    "## Will Merge using the column 'sku' from both df"
   ]
  },
  {
   "cell_type": "code",
   "execution_count": 119,
   "metadata": {},
   "outputs": [],
   "source": [
    "final = pd.merge(dfs,dfc, left_on='sku', right_on='sku', how = 'left')"
   ]
  },
  {
   "cell_type": "code",
   "execution_count": 120,
   "metadata": {},
   "outputs": [
    {
     "data": {
      "text/html": [
       "<div>\n",
       "<style scoped>\n",
       "    .dataframe tbody tr th:only-of-type {\n",
       "        vertical-align: middle;\n",
       "    }\n",
       "\n",
       "    .dataframe tbody tr th {\n",
       "        vertical-align: top;\n",
       "    }\n",
       "\n",
       "    .dataframe thead th {\n",
       "        text-align: right;\n",
       "    }\n",
       "</style>\n",
       "<table border=\"1\" class=\"dataframe\">\n",
       "  <thead>\n",
       "    <tr style=\"text-align: right;\">\n",
       "      <th></th>\n",
       "      <th>id</th>\n",
       "      <th>vat</th>\n",
       "      <th>price_subtotal</th>\n",
       "      <th>quantity</th>\n",
       "      <th>sku</th>\n",
       "      <th>attribute_set</th>\n",
       "    </tr>\n",
       "  </thead>\n",
       "  <tbody>\n",
       "    <tr>\n",
       "      <th>0</th>\n",
       "      <td>47053</td>\n",
       "      <td>B76645456</td>\n",
       "      <td>46152.33</td>\n",
       "      <td>30.0</td>\n",
       "      <td>MC75A6-PYCSWQRA9WR</td>\n",
       "      <td>Accessories</td>\n",
       "    </tr>\n",
       "    <tr>\n",
       "      <th>1</th>\n",
       "      <td>32415</td>\n",
       "      <td>A48010615</td>\n",
       "      <td>43195.00</td>\n",
       "      <td>265.0</td>\n",
       "      <td>DS9808-KITSERIE</td>\n",
       "      <td>NaN</td>\n",
       "    </tr>\n",
       "  </tbody>\n",
       "</table>\n",
       "</div>"
      ],
      "text/plain": [
       "      id        vat  price_subtotal  quantity                 sku  \\\n",
       "0  47053  B76645456        46152.33      30.0  MC75A6-PYCSWQRA9WR   \n",
       "1  32415  A48010615        43195.00     265.0     DS9808-KITSERIE   \n",
       "\n",
       "  attribute_set  \n",
       "0   Accessories  \n",
       "1           NaN  "
      ]
     },
     "execution_count": 120,
     "metadata": {},
     "output_type": "execute_result"
    }
   ],
   "source": [
    "final.head(2)"
   ]
  },
  {
   "cell_type": "markdown",
   "metadata": {},
   "source": [
    "Will drop all the registers without a valid value on 'attribute_set'"
   ]
  },
  {
   "cell_type": "code",
   "execution_count": 121,
   "metadata": {},
   "outputs": [
    {
     "data": {
      "text/plain": [
       "16140"
      ]
     },
     "execution_count": 121,
     "metadata": {},
     "output_type": "execute_result"
    }
   ],
   "source": [
    "final['attribute_set'].isnull().sum()"
   ]
  },
  {
   "cell_type": "code",
   "execution_count": 122,
   "metadata": {},
   "outputs": [
    {
     "data": {
      "text/plain": [
       "Shipping and Handling    5575\n",
       "Repair                    596\n",
       "unknown                   304\n",
       "Price-offer               184\n",
       "MISCELLANEOUS              83\n",
       "                         ... \n",
       "LCI-LIC                     1\n",
       "PTN-T4M3YNBD                1\n",
       "APN-30                      1\n",
       "105909G-038                 1\n",
       "SERV.CONSULT                1\n",
       "Name: sku, Length: 243, dtype: int64"
      ]
     },
     "execution_count": 122,
     "metadata": {},
     "output_type": "execute_result"
    }
   ],
   "source": [
    "final[final['attribute_set'].isnull()]['sku'].value_counts()"
   ]
  },
  {
   "cell_type": "code",
   "execution_count": 123,
   "metadata": {},
   "outputs": [],
   "source": [
    "final = final[final['attribute_set'].notnull()]"
   ]
  },
  {
   "cell_type": "code",
   "execution_count": 124,
   "metadata": {},
   "outputs": [
    {
     "data": {
      "text/plain": [
       "(9843, 6)"
      ]
     },
     "execution_count": 124,
     "metadata": {},
     "output_type": "execute_result"
    }
   ],
   "source": [
    "final.shape"
   ]
  },
  {
   "cell_type": "code",
   "execution_count": 125,
   "metadata": {},
   "outputs": [
    {
     "data": {
      "text/html": [
       "<div>\n",
       "<style scoped>\n",
       "    .dataframe tbody tr th:only-of-type {\n",
       "        vertical-align: middle;\n",
       "    }\n",
       "\n",
       "    .dataframe tbody tr th {\n",
       "        vertical-align: top;\n",
       "    }\n",
       "\n",
       "    .dataframe thead th {\n",
       "        text-align: right;\n",
       "    }\n",
       "</style>\n",
       "<table border=\"1\" class=\"dataframe\">\n",
       "  <thead>\n",
       "    <tr style=\"text-align: right;\">\n",
       "      <th></th>\n",
       "      <th>id</th>\n",
       "      <th>vat</th>\n",
       "      <th>price_subtotal</th>\n",
       "      <th>quantity</th>\n",
       "      <th>sku</th>\n",
       "      <th>attribute_set</th>\n",
       "    </tr>\n",
       "  </thead>\n",
       "  <tbody>\n",
       "    <tr>\n",
       "      <th>0</th>\n",
       "      <td>47053</td>\n",
       "      <td>B76645456</td>\n",
       "      <td>46152.33</td>\n",
       "      <td>30.0</td>\n",
       "      <td>MC75A6-PYCSWQRA9WR</td>\n",
       "      <td>Accessories</td>\n",
       "    </tr>\n",
       "    <tr>\n",
       "      <th>2</th>\n",
       "      <td>36952</td>\n",
       "      <td>B85991941</td>\n",
       "      <td>31612.15</td>\n",
       "      <td>29.0</td>\n",
       "      <td>MC75A6-PYCSWRRA9WR</td>\n",
       "      <td>Accessories</td>\n",
       "    </tr>\n",
       "    <tr>\n",
       "      <th>4</th>\n",
       "      <td>10894</td>\n",
       "      <td>A81939209</td>\n",
       "      <td>29424.03</td>\n",
       "      <td>1.0</td>\n",
       "      <td>MC75A6-PYCSWRRA9WR</td>\n",
       "      <td>Accessories</td>\n",
       "    </tr>\n",
       "    <tr>\n",
       "      <th>7</th>\n",
       "      <td>9592</td>\n",
       "      <td>A28616217</td>\n",
       "      <td>25967.06</td>\n",
       "      <td>49.0</td>\n",
       "      <td>ES405B-0AE2</td>\n",
       "      <td>Mobile Computing</td>\n",
       "    </tr>\n",
       "    <tr>\n",
       "      <th>9</th>\n",
       "      <td>6942</td>\n",
       "      <td>52179059V</td>\n",
       "      <td>23513.04</td>\n",
       "      <td>36.0</td>\n",
       "      <td>S4M00-200E-0100T</td>\n",
       "      <td>Label Printer</td>\n",
       "    </tr>\n",
       "    <tr>\n",
       "      <th>...</th>\n",
       "      <td>...</td>\n",
       "      <td>...</td>\n",
       "      <td>...</td>\n",
       "      <td>...</td>\n",
       "      <td>...</td>\n",
       "      <td>...</td>\n",
       "    </tr>\n",
       "    <tr>\n",
       "      <th>25727</th>\n",
       "      <td>18729</td>\n",
       "      <td>B87053047</td>\n",
       "      <td>0.00</td>\n",
       "      <td>1.0</td>\n",
       "      <td>SAMPLE5164</td>\n",
       "      <td>Accessories</td>\n",
       "    </tr>\n",
       "    <tr>\n",
       "      <th>25852</th>\n",
       "      <td>38144</td>\n",
       "      <td>A28250777</td>\n",
       "      <td>-20.25</td>\n",
       "      <td>1.0</td>\n",
       "      <td>LPS-MISC</td>\n",
       "      <td>Accessories</td>\n",
       "    </tr>\n",
       "    <tr>\n",
       "      <th>25856</th>\n",
       "      <td>38147</td>\n",
       "      <td>A28250777</td>\n",
       "      <td>-24.47</td>\n",
       "      <td>1.0</td>\n",
       "      <td>LPS-MISC</td>\n",
       "      <td>Accessories</td>\n",
       "    </tr>\n",
       "    <tr>\n",
       "      <th>25941</th>\n",
       "      <td>17870</td>\n",
       "      <td>A15005499</td>\n",
       "      <td>-138.23</td>\n",
       "      <td>1.0</td>\n",
       "      <td>CN70AN1KNU3W2100</td>\n",
       "      <td>Mobile Computing</td>\n",
       "    </tr>\n",
       "    <tr>\n",
       "      <th>25982</th>\n",
       "      <td>102667</td>\n",
       "      <td>B31926488</td>\n",
       "      <td>-12273.66</td>\n",
       "      <td>9.0</td>\n",
       "      <td>CN70AN1KNU3W2100</td>\n",
       "      <td>Mobile Computing</td>\n",
       "    </tr>\n",
       "  </tbody>\n",
       "</table>\n",
       "<p>9843 rows × 6 columns</p>\n",
       "</div>"
      ],
      "text/plain": [
       "           id        vat  price_subtotal  quantity                 sku  \\\n",
       "0       47053  B76645456        46152.33      30.0  MC75A6-PYCSWQRA9WR   \n",
       "2       36952  B85991941        31612.15      29.0  MC75A6-PYCSWRRA9WR   \n",
       "4       10894  A81939209        29424.03       1.0  MC75A6-PYCSWRRA9WR   \n",
       "7        9592  A28616217        25967.06      49.0         ES405B-0AE2   \n",
       "9        6942  52179059V        23513.04      36.0    S4M00-200E-0100T   \n",
       "...       ...        ...             ...       ...                 ...   \n",
       "25727   18729  B87053047            0.00       1.0          SAMPLE5164   \n",
       "25852   38144  A28250777          -20.25       1.0            LPS-MISC   \n",
       "25856   38147  A28250777          -24.47       1.0            LPS-MISC   \n",
       "25941   17870  A15005499         -138.23       1.0    CN70AN1KNU3W2100   \n",
       "25982  102667  B31926488       -12273.66       9.0    CN70AN1KNU3W2100   \n",
       "\n",
       "          attribute_set  \n",
       "0           Accessories  \n",
       "2           Accessories  \n",
       "4           Accessories  \n",
       "7      Mobile Computing  \n",
       "9         Label Printer  \n",
       "...                 ...  \n",
       "25727       Accessories  \n",
       "25852       Accessories  \n",
       "25856       Accessories  \n",
       "25941  Mobile Computing  \n",
       "25982  Mobile Computing  \n",
       "\n",
       "[9843 rows x 6 columns]"
      ]
     },
     "execution_count": 125,
     "metadata": {},
     "output_type": "execute_result"
    }
   ],
   "source": [
    "final"
   ]
  },
  {
   "cell_type": "markdown",
   "metadata": {},
   "source": [
    "Will not count lines with negative values"
   ]
  },
  {
   "cell_type": "code",
   "execution_count": 126,
   "metadata": {},
   "outputs": [],
   "source": [
    "final = final[final['price_subtotal'] > 0]"
   ]
  },
  {
   "cell_type": "code",
   "execution_count": 127,
   "metadata": {},
   "outputs": [
    {
     "data": {
      "text/plain": [
       "(9775, 6)"
      ]
     },
     "execution_count": 127,
     "metadata": {},
     "output_type": "execute_result"
    }
   ],
   "source": [
    "final.shape"
   ]
  },
  {
   "cell_type": "markdown",
   "metadata": {},
   "source": [
    "Will drop 'sku' column as no longer needed in order to anonymize business information"
   ]
  },
  {
   "cell_type": "code",
   "execution_count": 128,
   "metadata": {},
   "outputs": [],
   "source": [
    "final = final.drop(columns=('sku'))"
   ]
  },
  {
   "cell_type": "markdown",
   "metadata": {},
   "source": [
    "Will aggregate values by vat and attribute set"
   ]
  },
  {
   "cell_type": "code",
   "execution_count": 131,
   "metadata": {},
   "outputs": [
    {
     "data": {
      "text/html": [
       "<div>\n",
       "<style scoped>\n",
       "    .dataframe tbody tr th:only-of-type {\n",
       "        vertical-align: middle;\n",
       "    }\n",
       "\n",
       "    .dataframe tbody tr th {\n",
       "        vertical-align: top;\n",
       "    }\n",
       "\n",
       "    .dataframe thead th {\n",
       "        text-align: right;\n",
       "    }\n",
       "</style>\n",
       "<table border=\"1\" class=\"dataframe\">\n",
       "  <thead>\n",
       "    <tr style=\"text-align: right;\">\n",
       "      <th></th>\n",
       "      <th>id</th>\n",
       "      <th>vat</th>\n",
       "      <th>price_subtotal</th>\n",
       "      <th>quantity</th>\n",
       "      <th>attribute_set</th>\n",
       "    </tr>\n",
       "  </thead>\n",
       "  <tbody>\n",
       "    <tr>\n",
       "      <th>0</th>\n",
       "      <td>47053</td>\n",
       "      <td>B76645456</td>\n",
       "      <td>46152.33</td>\n",
       "      <td>30.0</td>\n",
       "      <td>Accessories</td>\n",
       "    </tr>\n",
       "    <tr>\n",
       "      <th>2</th>\n",
       "      <td>36952</td>\n",
       "      <td>B85991941</td>\n",
       "      <td>31612.15</td>\n",
       "      <td>29.0</td>\n",
       "      <td>Accessories</td>\n",
       "    </tr>\n",
       "    <tr>\n",
       "      <th>4</th>\n",
       "      <td>10894</td>\n",
       "      <td>A81939209</td>\n",
       "      <td>29424.03</td>\n",
       "      <td>1.0</td>\n",
       "      <td>Accessories</td>\n",
       "    </tr>\n",
       "    <tr>\n",
       "      <th>7</th>\n",
       "      <td>9592</td>\n",
       "      <td>A28616217</td>\n",
       "      <td>25967.06</td>\n",
       "      <td>49.0</td>\n",
       "      <td>Mobile Computing</td>\n",
       "    </tr>\n",
       "    <tr>\n",
       "      <th>9</th>\n",
       "      <td>6942</td>\n",
       "      <td>52179059V</td>\n",
       "      <td>23513.04</td>\n",
       "      <td>36.0</td>\n",
       "      <td>Label Printer</td>\n",
       "    </tr>\n",
       "    <tr>\n",
       "      <th>...</th>\n",
       "      <td>...</td>\n",
       "      <td>...</td>\n",
       "      <td>...</td>\n",
       "      <td>...</td>\n",
       "      <td>...</td>\n",
       "    </tr>\n",
       "    <tr>\n",
       "      <th>25249</th>\n",
       "      <td>75432</td>\n",
       "      <td>B18092957</td>\n",
       "      <td>2.00</td>\n",
       "      <td>1.0</td>\n",
       "      <td>Accessories</td>\n",
       "    </tr>\n",
       "    <tr>\n",
       "      <th>25251</th>\n",
       "      <td>112501</td>\n",
       "      <td>B95521225</td>\n",
       "      <td>1.91</td>\n",
       "      <td>1.0</td>\n",
       "      <td>Accessories</td>\n",
       "    </tr>\n",
       "    <tr>\n",
       "      <th>25252</th>\n",
       "      <td>16098</td>\n",
       "      <td>43720187Q</td>\n",
       "      <td>1.91</td>\n",
       "      <td>1.0</td>\n",
       "      <td>Accessories</td>\n",
       "    </tr>\n",
       "    <tr>\n",
       "      <th>25266</th>\n",
       "      <td>17150</td>\n",
       "      <td>B86464922</td>\n",
       "      <td>1.59</td>\n",
       "      <td>1.0</td>\n",
       "      <td>Accessories</td>\n",
       "    </tr>\n",
       "    <tr>\n",
       "      <th>25276</th>\n",
       "      <td>87805</td>\n",
       "      <td>B64753593</td>\n",
       "      <td>1.10</td>\n",
       "      <td>2.0</td>\n",
       "      <td>Accessories</td>\n",
       "    </tr>\n",
       "  </tbody>\n",
       "</table>\n",
       "<p>9775 rows × 5 columns</p>\n",
       "</div>"
      ],
      "text/plain": [
       "           id        vat  price_subtotal  quantity     attribute_set\n",
       "0       47053  B76645456        46152.33      30.0       Accessories\n",
       "2       36952  B85991941        31612.15      29.0       Accessories\n",
       "4       10894  A81939209        29424.03       1.0       Accessories\n",
       "7        9592  A28616217        25967.06      49.0  Mobile Computing\n",
       "9        6942  52179059V        23513.04      36.0     Label Printer\n",
       "...       ...        ...             ...       ...               ...\n",
       "25249   75432  B18092957            2.00       1.0       Accessories\n",
       "25251  112501  B95521225            1.91       1.0       Accessories\n",
       "25252   16098  43720187Q            1.91       1.0       Accessories\n",
       "25266   17150  B86464922            1.59       1.0       Accessories\n",
       "25276   87805  B64753593            1.10       2.0       Accessories\n",
       "\n",
       "[9775 rows x 5 columns]"
      ]
     },
     "execution_count": 131,
     "metadata": {},
     "output_type": "execute_result"
    }
   ],
   "source": [
    "final"
   ]
  },
  {
   "cell_type": "code",
   "execution_count": 150,
   "metadata": {},
   "outputs": [],
   "source": [
    "aggresults = final.groupby(['id','vat','attribute_set']).agg({'price_subtotal':['sum'], 'quantity':['sum']})"
   ]
  },
  {
   "cell_type": "code",
   "execution_count": 151,
   "metadata": {},
   "outputs": [
    {
     "data": {
      "text/html": [
       "<div>\n",
       "<style scoped>\n",
       "    .dataframe tbody tr th:only-of-type {\n",
       "        vertical-align: middle;\n",
       "    }\n",
       "\n",
       "    .dataframe tbody tr th {\n",
       "        vertical-align: top;\n",
       "    }\n",
       "\n",
       "    .dataframe thead tr th {\n",
       "        text-align: left;\n",
       "    }\n",
       "\n",
       "    .dataframe thead tr:last-of-type th {\n",
       "        text-align: right;\n",
       "    }\n",
       "</style>\n",
       "<table border=\"1\" class=\"dataframe\">\n",
       "  <thead>\n",
       "    <tr>\n",
       "      <th></th>\n",
       "      <th></th>\n",
       "      <th></th>\n",
       "      <th>price_subtotal</th>\n",
       "      <th>quantity</th>\n",
       "    </tr>\n",
       "    <tr>\n",
       "      <th></th>\n",
       "      <th></th>\n",
       "      <th></th>\n",
       "      <th>sum</th>\n",
       "      <th>sum</th>\n",
       "    </tr>\n",
       "    <tr>\n",
       "      <th>id</th>\n",
       "      <th>vat</th>\n",
       "      <th>attribute_set</th>\n",
       "      <th></th>\n",
       "      <th></th>\n",
       "    </tr>\n",
       "  </thead>\n",
       "  <tbody>\n",
       "    <tr>\n",
       "      <th>125</th>\n",
       "      <th>A28415495</th>\n",
       "      <th>Label Printer</th>\n",
       "      <td>239.00</td>\n",
       "      <td>1.0</td>\n",
       "    </tr>\n",
       "    <tr>\n",
       "      <th>139</th>\n",
       "      <th>B12026183</th>\n",
       "      <th>Accessories</th>\n",
       "      <td>43.80</td>\n",
       "      <td>1.0</td>\n",
       "    </tr>\n",
       "    <tr>\n",
       "      <th>149</th>\n",
       "      <th>B64898562</th>\n",
       "      <th>Accessories</th>\n",
       "      <td>103.38</td>\n",
       "      <td>3.0</td>\n",
       "    </tr>\n",
       "    <tr>\n",
       "      <th>168</th>\n",
       "      <th>A59555466</th>\n",
       "      <th>Accessories</th>\n",
       "      <td>753.49</td>\n",
       "      <td>1.0</td>\n",
       "    </tr>\n",
       "    <tr>\n",
       "      <th>235</th>\n",
       "      <th>A58244096</th>\n",
       "      <th>Printhead</th>\n",
       "      <td>899.91</td>\n",
       "      <td>3.0</td>\n",
       "    </tr>\n",
       "    <tr>\n",
       "      <th>...</th>\n",
       "      <th>...</th>\n",
       "      <th>...</th>\n",
       "      <td>...</td>\n",
       "      <td>...</td>\n",
       "    </tr>\n",
       "    <tr>\n",
       "      <th>119242</th>\n",
       "      <th>45955229X</th>\n",
       "      <th>Other</th>\n",
       "      <td>261.31</td>\n",
       "      <td>1.0</td>\n",
       "    </tr>\n",
       "    <tr>\n",
       "      <th>119338</th>\n",
       "      <th>B34204974</th>\n",
       "      <th>Scanner</th>\n",
       "      <td>472.50</td>\n",
       "      <td>1.0</td>\n",
       "    </tr>\n",
       "    <tr>\n",
       "      <th>119340</th>\n",
       "      <th>B70135371</th>\n",
       "      <th>Scanner</th>\n",
       "      <td>472.50</td>\n",
       "      <td>1.0</td>\n",
       "    </tr>\n",
       "    <tr>\n",
       "      <th>119376</th>\n",
       "      <th>47364071X</th>\n",
       "      <th>Scanner</th>\n",
       "      <td>366.41</td>\n",
       "      <td>1.0</td>\n",
       "    </tr>\n",
       "    <tr>\n",
       "      <th>119409</th>\n",
       "      <th>B80465172</th>\n",
       "      <th>Accessories</th>\n",
       "      <td>122.65</td>\n",
       "      <td>1.0</td>\n",
       "    </tr>\n",
       "  </tbody>\n",
       "</table>\n",
       "<p>9772 rows × 2 columns</p>\n",
       "</div>"
      ],
      "text/plain": [
       "                               price_subtotal quantity\n",
       "                                          sum      sum\n",
       "id     vat       attribute_set                        \n",
       "125    A28415495 Label Printer         239.00      1.0\n",
       "139    B12026183 Accessories            43.80      1.0\n",
       "149    B64898562 Accessories           103.38      3.0\n",
       "168    A59555466 Accessories           753.49      1.0\n",
       "235    A58244096 Printhead             899.91      3.0\n",
       "...                                       ...      ...\n",
       "119242 45955229X Other                 261.31      1.0\n",
       "119338 B34204974 Scanner               472.50      1.0\n",
       "119340 B70135371 Scanner               472.50      1.0\n",
       "119376 47364071X Scanner               366.41      1.0\n",
       "119409 B80465172 Accessories           122.65      1.0\n",
       "\n",
       "[9772 rows x 2 columns]"
      ]
     },
     "execution_count": 151,
     "metadata": {},
     "output_type": "execute_result"
    }
   ],
   "source": [
    "aggresults"
   ]
  },
  {
   "cell_type": "code",
   "execution_count": 152,
   "metadata": {},
   "outputs": [],
   "source": [
    "aggresults = aggresults.reset_index(level=[0,1])\n",
    "aggresults = aggresults.reset_index(level=[0])"
   ]
  },
  {
   "cell_type": "code",
   "execution_count": 154,
   "metadata": {},
   "outputs": [],
   "source": [
    "aggresults.columns = [col[1] for col in aggresults.columns]"
   ]
  },
  {
   "cell_type": "code",
   "execution_count": 158,
   "metadata": {},
   "outputs": [],
   "source": [
    "aggresults.columns = ['category','id', 'vat', 'value', 'quantity']"
   ]
  },
  {
   "cell_type": "code",
   "execution_count": 159,
   "metadata": {},
   "outputs": [
    {
     "data": {
      "text/html": [
       "<div>\n",
       "<style scoped>\n",
       "    .dataframe tbody tr th:only-of-type {\n",
       "        vertical-align: middle;\n",
       "    }\n",
       "\n",
       "    .dataframe tbody tr th {\n",
       "        vertical-align: top;\n",
       "    }\n",
       "\n",
       "    .dataframe thead th {\n",
       "        text-align: right;\n",
       "    }\n",
       "</style>\n",
       "<table border=\"1\" class=\"dataframe\">\n",
       "  <thead>\n",
       "    <tr style=\"text-align: right;\">\n",
       "      <th></th>\n",
       "      <th>category</th>\n",
       "      <th>id</th>\n",
       "      <th>vat</th>\n",
       "      <th>value</th>\n",
       "      <th>quantity</th>\n",
       "    </tr>\n",
       "  </thead>\n",
       "  <tbody>\n",
       "    <tr>\n",
       "      <th>0</th>\n",
       "      <td>Label Printer</td>\n",
       "      <td>125</td>\n",
       "      <td>A28415495</td>\n",
       "      <td>239.00</td>\n",
       "      <td>1.0</td>\n",
       "    </tr>\n",
       "    <tr>\n",
       "      <th>1</th>\n",
       "      <td>Accessories</td>\n",
       "      <td>139</td>\n",
       "      <td>B12026183</td>\n",
       "      <td>43.80</td>\n",
       "      <td>1.0</td>\n",
       "    </tr>\n",
       "    <tr>\n",
       "      <th>2</th>\n",
       "      <td>Accessories</td>\n",
       "      <td>149</td>\n",
       "      <td>B64898562</td>\n",
       "      <td>103.38</td>\n",
       "      <td>3.0</td>\n",
       "    </tr>\n",
       "    <tr>\n",
       "      <th>3</th>\n",
       "      <td>Accessories</td>\n",
       "      <td>168</td>\n",
       "      <td>A59555466</td>\n",
       "      <td>753.49</td>\n",
       "      <td>1.0</td>\n",
       "    </tr>\n",
       "    <tr>\n",
       "      <th>4</th>\n",
       "      <td>Printhead</td>\n",
       "      <td>235</td>\n",
       "      <td>A58244096</td>\n",
       "      <td>899.91</td>\n",
       "      <td>3.0</td>\n",
       "    </tr>\n",
       "    <tr>\n",
       "      <th>...</th>\n",
       "      <td>...</td>\n",
       "      <td>...</td>\n",
       "      <td>...</td>\n",
       "      <td>...</td>\n",
       "      <td>...</td>\n",
       "    </tr>\n",
       "    <tr>\n",
       "      <th>9767</th>\n",
       "      <td>Other</td>\n",
       "      <td>119242</td>\n",
       "      <td>45955229X</td>\n",
       "      <td>261.31</td>\n",
       "      <td>1.0</td>\n",
       "    </tr>\n",
       "    <tr>\n",
       "      <th>9768</th>\n",
       "      <td>Scanner</td>\n",
       "      <td>119338</td>\n",
       "      <td>B34204974</td>\n",
       "      <td>472.50</td>\n",
       "      <td>1.0</td>\n",
       "    </tr>\n",
       "    <tr>\n",
       "      <th>9769</th>\n",
       "      <td>Scanner</td>\n",
       "      <td>119340</td>\n",
       "      <td>B70135371</td>\n",
       "      <td>472.50</td>\n",
       "      <td>1.0</td>\n",
       "    </tr>\n",
       "    <tr>\n",
       "      <th>9770</th>\n",
       "      <td>Scanner</td>\n",
       "      <td>119376</td>\n",
       "      <td>47364071X</td>\n",
       "      <td>366.41</td>\n",
       "      <td>1.0</td>\n",
       "    </tr>\n",
       "    <tr>\n",
       "      <th>9771</th>\n",
       "      <td>Accessories</td>\n",
       "      <td>119409</td>\n",
       "      <td>B80465172</td>\n",
       "      <td>122.65</td>\n",
       "      <td>1.0</td>\n",
       "    </tr>\n",
       "  </tbody>\n",
       "</table>\n",
       "<p>9772 rows × 5 columns</p>\n",
       "</div>"
      ],
      "text/plain": [
       "           category      id        vat   value  quantity\n",
       "0     Label Printer     125  A28415495  239.00       1.0\n",
       "1       Accessories     139  B12026183   43.80       1.0\n",
       "2       Accessories     149  B64898562  103.38       3.0\n",
       "3       Accessories     168  A59555466  753.49       1.0\n",
       "4         Printhead     235  A58244096  899.91       3.0\n",
       "...             ...     ...        ...     ...       ...\n",
       "9767          Other  119242  45955229X  261.31       1.0\n",
       "9768        Scanner  119338  B34204974  472.50       1.0\n",
       "9769        Scanner  119340  B70135371  472.50       1.0\n",
       "9770        Scanner  119376  47364071X  366.41       1.0\n",
       "9771    Accessories  119409  B80465172  122.65       1.0\n",
       "\n",
       "[9772 rows x 5 columns]"
      ]
     },
     "execution_count": 159,
     "metadata": {},
     "output_type": "execute_result"
    }
   ],
   "source": [
    "aggresults"
   ]
  },
  {
   "cell_type": "code",
   "execution_count": 160,
   "metadata": {},
   "outputs": [],
   "source": [
    "df = aggresults[['id','vat','category','value','quantity']]"
   ]
  },
  {
   "cell_type": "markdown",
   "metadata": {},
   "source": [
    "Will use only sales with very concrete categories dropping \"Other\""
   ]
  },
  {
   "cell_type": "code",
   "execution_count": 166,
   "metadata": {},
   "outputs": [],
   "source": [
    "df = df[df['category'] != 'Other']"
   ]
  },
  {
   "cell_type": "code",
   "execution_count": 167,
   "metadata": {},
   "outputs": [],
   "source": [
    "df.to_csv('../data2/processed/merged_clean.csv')"
   ]
  },
  {
   "cell_type": "code",
   "execution_count": null,
   "metadata": {},
   "outputs": [],
   "source": []
  }
 ],
 "metadata": {
  "kernelspec": {
   "display_name": "Python [conda env:project_env]",
   "language": "python",
   "name": "conda-env-project_env-py"
  },
  "language_info": {
   "codemirror_mode": {
    "name": "ipython",
    "version": 3
   },
   "file_extension": ".py",
   "mimetype": "text/x-python",
   "name": "python",
   "nbconvert_exporter": "python",
   "pygments_lexer": "ipython3",
   "version": "3.7.5"
  }
 },
 "nbformat": 4,
 "nbformat_minor": 4
}
