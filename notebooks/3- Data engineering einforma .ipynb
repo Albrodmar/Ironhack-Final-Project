{
 "cells": [
  {
   "cell_type": "code",
   "execution_count": 1,
   "metadata": {},
   "outputs": [],
   "source": [
    "import pandas as pd"
   ]
  },
  {
   "cell_type": "code",
   "execution_count": 9,
   "metadata": {},
   "outputs": [],
   "source": [
    "companies = pd.read_csv('../data2/processed/final_cifs_enrich.csv', index_col = 0)"
   ]
  },
  {
   "cell_type": "code",
   "execution_count": 12,
   "metadata": {},
   "outputs": [],
   "source": [
    "companies = companies.drop(columns = ['index', 'Unnamed: 0.1'])"
   ]
  },
  {
   "cell_type": "code",
   "execution_count": 13,
   "metadata": {},
   "outputs": [],
   "source": [
    "companies['provincia'] = companies['Localidad'].str.extract('\\((.+)\\)', expand=True)"
   ]
  },
  {
   "cell_type": "code",
   "execution_count": 26,
   "metadata": {},
   "outputs": [],
   "source": [
    "companies = companies.drop(columns = ['Localidad', 'Actividad Informa', 'Objeto Social','Forma Juridica'])"
   ]
  },
  {
   "cell_type": "code",
   "execution_count": 34,
   "metadata": {},
   "outputs": [],
   "source": [
    "companies['provincia'] = companies['provincia'].astype(str)\n",
    "companies['CNAE'] = companies['CNAE'].astype(str)\n"
   ]
  },
  {
   "cell_type": "markdown",
   "metadata": {},
   "source": [
    "Lets do some LabelEncoder"
   ]
  },
  {
   "cell_type": "code",
   "execution_count": 31,
   "metadata": {},
   "outputs": [],
   "source": [
    "from sklearn.preprocessing import LabelEncoder"
   ]
  },
  {
   "cell_type": "code",
   "execution_count": 35,
   "metadata": {},
   "outputs": [],
   "source": [
    "labelencoder = LabelEncoder()\n",
    "\n",
    "companies['provincia_encoded'] = labelencoder.fit_transform(companies['provincia'])\n",
    "companies['cnae_encoded'] = labelencoder.fit_transform(companies['CNAE'])\n"
   ]
  },
  {
   "cell_type": "code",
   "execution_count": 36,
   "metadata": {},
   "outputs": [
    {
     "data": {
      "text/html": [
       "<div>\n",
       "<style scoped>\n",
       "    .dataframe tbody tr th:only-of-type {\n",
       "        vertical-align: middle;\n",
       "    }\n",
       "\n",
       "    .dataframe tbody tr th {\n",
       "        vertical-align: top;\n",
       "    }\n",
       "\n",
       "    .dataframe thead th {\n",
       "        text-align: right;\n",
       "    }\n",
       "</style>\n",
       "<table border=\"1\" class=\"dataframe\">\n",
       "  <thead>\n",
       "    <tr style=\"text-align: right;\">\n",
       "      <th></th>\n",
       "      <th>vat</th>\n",
       "      <th>CNAE</th>\n",
       "      <th>provincia</th>\n",
       "      <th>provincia_encoded</th>\n",
       "      <th>cnae_encoded</th>\n",
       "    </tr>\n",
       "  </thead>\n",
       "  <tbody>\n",
       "    <tr>\n",
       "      <th>0</th>\n",
       "      <td>A28415495</td>\n",
       "      <td>3212 - Fabricación de artículos de joyería y ...</td>\n",
       "      <td>Madrid</td>\n",
       "      <td>30</td>\n",
       "      <td>199</td>\n",
       "    </tr>\n",
       "    <tr>\n",
       "      <th>1</th>\n",
       "      <td>B12026183</td>\n",
       "      <td>4631 - Comercio al por mayor de frutas y hort...</td>\n",
       "      <td>Castellón</td>\n",
       "      <td>11</td>\n",
       "      <td>263</td>\n",
       "    </tr>\n",
       "    <tr>\n",
       "      <th>2</th>\n",
       "      <td>B64898562</td>\n",
       "      <td>6201 - Actividades de programación informática</td>\n",
       "      <td>Barcelona</td>\n",
       "      <td>7</td>\n",
       "      <td>375</td>\n",
       "    </tr>\n",
       "    <tr>\n",
       "      <th>3</th>\n",
       "      <td>A59555466</td>\n",
       "      <td>7112 - Servicios técnicos de ingeniería y otr...</td>\n",
       "      <td>Barcelona</td>\n",
       "      <td>7</td>\n",
       "      <td>403</td>\n",
       "    </tr>\n",
       "    <tr>\n",
       "      <th>4</th>\n",
       "      <td>A58244096</td>\n",
       "      <td>2030 - Fabricación de pinturas, barnices y re...</td>\n",
       "      <td>Barcelona</td>\n",
       "      <td>7</td>\n",
       "      <td>101</td>\n",
       "    </tr>\n",
       "    <tr>\n",
       "      <th>...</th>\n",
       "      <td>...</td>\n",
       "      <td>...</td>\n",
       "      <td>...</td>\n",
       "      <td>...</td>\n",
       "      <td>...</td>\n",
       "    </tr>\n",
       "    <tr>\n",
       "      <th>8330</th>\n",
       "      <td>Y3993172H</td>\n",
       "      <td>nan</td>\n",
       "      <td>nan</td>\n",
       "      <td>53</td>\n",
       "      <td>497</td>\n",
       "    </tr>\n",
       "    <tr>\n",
       "      <th>8331</th>\n",
       "      <td>E40566135</td>\n",
       "      <td>nan</td>\n",
       "      <td>nan</td>\n",
       "      <td>53</td>\n",
       "      <td>497</td>\n",
       "    </tr>\n",
       "    <tr>\n",
       "      <th>8332</th>\n",
       "      <td>32791005C</td>\n",
       "      <td>nan</td>\n",
       "      <td>nan</td>\n",
       "      <td>53</td>\n",
       "      <td>497</td>\n",
       "    </tr>\n",
       "    <tr>\n",
       "      <th>8333</th>\n",
       "      <td>50763821S</td>\n",
       "      <td>nan</td>\n",
       "      <td>nan</td>\n",
       "      <td>53</td>\n",
       "      <td>497</td>\n",
       "    </tr>\n",
       "    <tr>\n",
       "      <th>8334</th>\n",
       "      <td>51070159Q</td>\n",
       "      <td>nan</td>\n",
       "      <td>nan</td>\n",
       "      <td>53</td>\n",
       "      <td>497</td>\n",
       "    </tr>\n",
       "  </tbody>\n",
       "</table>\n",
       "<p>8335 rows × 5 columns</p>\n",
       "</div>"
      ],
      "text/plain": [
       "            vat                                               CNAE  \\\n",
       "0     A28415495   3212 - Fabricación de artículos de joyería y ...   \n",
       "1     B12026183   4631 - Comercio al por mayor de frutas y hort...   \n",
       "2     B64898562     6201 - Actividades de programación informática   \n",
       "3     A59555466   7112 - Servicios técnicos de ingeniería y otr...   \n",
       "4     A58244096   2030 - Fabricación de pinturas, barnices y re...   \n",
       "...         ...                                                ...   \n",
       "8330  Y3993172H                                                nan   \n",
       "8331  E40566135                                                nan   \n",
       "8332  32791005C                                                nan   \n",
       "8333  50763821S                                                nan   \n",
       "8334  51070159Q                                                nan   \n",
       "\n",
       "        provincia  provincia_encoded  cnae_encoded  \n",
       "0         Madrid                  30           199  \n",
       "1      Castellón                  11           263  \n",
       "2      Barcelona                   7           375  \n",
       "3      Barcelona                   7           403  \n",
       "4      Barcelona                   7           101  \n",
       "...           ...                ...           ...  \n",
       "8330          nan                 53           497  \n",
       "8331          nan                 53           497  \n",
       "8332          nan                 53           497  \n",
       "8333          nan                 53           497  \n",
       "8334          nan                 53           497  \n",
       "\n",
       "[8335 rows x 5 columns]"
      ]
     },
     "execution_count": 36,
     "metadata": {},
     "output_type": "execute_result"
    }
   ],
   "source": [
    "companies"
   ]
  },
  {
   "cell_type": "code",
   "execution_count": 37,
   "metadata": {},
   "outputs": [],
   "source": [
    "companies.to_csv('../data2/processed/final_companies.csv')"
   ]
  },
  {
   "cell_type": "code",
   "execution_count": null,
   "metadata": {},
   "outputs": [],
   "source": []
  }
 ],
 "metadata": {
  "kernelspec": {
   "display_name": "Python [conda env:project_env]",
   "language": "python",
   "name": "conda-env-project_env-py"
  },
  "language_info": {
   "codemirror_mode": {
    "name": "ipython",
    "version": 3
   },
   "file_extension": ".py",
   "mimetype": "text/x-python",
   "name": "python",
   "nbconvert_exporter": "python",
   "pygments_lexer": "ipython3",
   "version": "3.7.5"
  }
 },
 "nbformat": 4,
 "nbformat_minor": 4
}
